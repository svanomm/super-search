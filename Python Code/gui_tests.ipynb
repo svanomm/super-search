{
 "cells": [
  {
   "cell_type": "code",
   "execution_count": 6,
   "id": "4a57a0c6",
   "metadata": {},
   "outputs": [],
   "source": [
    "from file_scanner import file_scanner\n",
    "from chunk_db import chunk_db\n",
    "from create_bm25_index import create_bm25_index\n",
    "from query_bm25 import query_bm25\n",
    "import FreeSimpleGUI as sg\n",
    "import os"
   ]
  },
  {
   "cell_type": "code",
   "execution_count": null,
   "id": "ee31c117",
   "metadata": {},
   "outputs": [],
   "source": [
    "# Import variables for doing stuff\n",
    "index_directory = ''\n",
    "index_location  = ''\n",
    "file_list_display = ''\n",
    "flag_semantic_index = 0\n",
    "search_results = []"
   ]
  },
  {
   "cell_type": "code",
   "execution_count": null,
   "id": "87841a04",
   "metadata": {},
   "outputs": [],
   "source": [
    "def make_window(theme):\n",
    "    sg.theme(theme)\n",
    "    menu_def = [['&Application', ['E&xit']],\n",
    "                ['&Help', ['&About']] ]\n",
    "    right_click_menu_def = [[], ['Edit Me', 'Versions', 'Nothing','More Nothing','Exit']]\n",
    "    graph_right_click_menu_def = [[], ['Erase','Draw Line', 'Draw',['Circle', 'Rectangle', 'Image'], 'Exit']]\n",
    "\n",
    "    input_layout =  [\n",
    "                # [sg.Menu(menu_def, key='-MENU-')],\n",
    "                [sg.Text('This tab is for creating search indices/databases.')], \n",
    "                [sg.Text('Input your filepath to the directory to index.')], \n",
    "                [sg.Button(\"Open Folder to Index\"), sg.Text(index_directory, key='-INDEX DIRECTORY-')], \n",
    "                [sg.Text('If you want to specify your index location, or already have one, put it below.')], \n",
    "                [sg.Button(\"Open Database Folder\")],\n",
    "                [sg.Checkbox('Create semantic index in addition to BM25', default=False, k='-CREATE_SEMANTIC_INDEX-')],\n",
    "                [sg.Text('Files to index:')],\n",
    "                [sg.Multiline(file_list_display, size=(45,4), expand_x=True, expand_y=False, horizontal_scroll=True, k='-FILELIST_DISPLAY-')],\n",
    "                [sg.Button('Build Index', key='-BUILD_INDEX-'), sg.Button('Update Index', key='-UPDATE_INDEX-'), sg.Button(image_data=sg.DEFAULT_BASE64_ICON, key='-LOGO-')]]\n",
    "\n",
    "    search_layout = [\n",
    "                    [sg.Text('This tab is for searching your indexed files.')],\n",
    "                    [sg.Text('Input your search query below:')],\n",
    "                    [sg.Input(key='-SEARCH QUERY-', size=(40, 1))],\n",
    "                    [sg.Button('Search'), sg.Button('Clear Search')],\n",
    "                    [sg.Text('Search Results:')],\n",
    "                    [sg.Listbox(values=search_results, size=(60, 10), key='-SEARCH RESULTS-', expand_x=True, expand_y=True, enable_events=True)],\n",
    "                    [sg.Button('Test Progress Bar'), sg.ProgressBar(100, orientation='h', size=(20, 20), key='-PROGRESS BAR-')]\n",
    "                    ]\n",
    "\n",
    "    logging_layout = [[sg.Text(\"Anything printed will display here!\")],\n",
    "                      [sg.Multiline(size=(60,15), font='Courier 8', expand_x=True, expand_y=True, write_only=True,\n",
    "                                    reroute_stdout=True, reroute_stderr=True, echo_stdout_stderr=True, autoscroll=True, auto_refresh=True)]\n",
    "                      # [sg.Output(size=(60,15), font='Courier 8', expand_x=True, expand_y=True)]\n",
    "                      ]\n",
    "    popup_layout = [[sg.Text(\"Popup Testing\")],\n",
    "                    [sg.Button(\"Open Folder\")],\n",
    "                    [sg.Button(\"Open File\")]]\n",
    "    \n",
    "    theme_layout = [[sg.Text(\"See how elements look under different themes by choosing a different theme here!\")],\n",
    "                    [sg.Listbox(values = sg.theme_list(), \n",
    "                      size =(20, 12), \n",
    "                      key ='-THEME LISTBOX-',\n",
    "                      enable_events = True)],\n",
    "                      [sg.Button(\"Set Theme\")]]\n",
    "    \n",
    "    layout = [ [sg.MenubarCustom(menu_def, key='-MENU-', font='Courier 15', tearoff=True)],\n",
    "                [sg.Text('A Local Search Engine with Semantic Capabilities', size=(20, 1), justification='left', font=(\"Helvetica\", 16), relief=sg.RELIEF_RIDGE, expand_x=True, k='-TEXT HEADING-', enable_events=True)]]\n",
    "    layout +=[[sg.TabGroup([[  sg.Tab('Input', input_layout),\n",
    "                               sg.Tab('Search', search_layout),\n",
    "                               sg.Tab('Output', logging_layout)]], key='-TAB GROUP-', expand_x=True, expand_y=True),\n",
    "\n",
    "               ]]\n",
    "    layout[-1].append(sg.Sizegrip())\n",
    "    window = sg.Window('super-search', layout, right_click_menu=right_click_menu_def, right_click_menu_tearoff=True, grab_anywhere=True, resizable=True, margins=(0,0), use_custom_titlebar=True, finalize=True, keep_on_top=True)\n",
    "    window.set_min_size(window.size)\n",
    "    return window"
   ]
  },
  {
   "cell_type": "code",
   "execution_count": null,
   "id": "d3dff518",
   "metadata": {},
   "outputs": [
    {
     "name": "stdout",
     "output_type": "stream",
     "text": [
      "[LOG] Clicked Exit!\n"
     ]
    }
   ],
   "source": [
    "window = make_window(sg.theme())\n",
    "# Initialize global variables\n",
    "index_directory = ''\n",
    "index_location  = ''\n",
    "file_list_display = ''\n",
    "flag_semantic_index = 0\n",
    "\n",
    "# This is an Event Loop \n",
    "while True:\n",
    "    event, values = window.read(timeout=100)\n",
    "    # keep an animation running so show things are happening\n",
    "    if event not in (sg.TIMEOUT_EVENT, sg.WIN_CLOSED):\n",
    "        print('============ Event = ', event, ' ==============')\n",
    "        print('-------- Values Dictionary (key=value) --------')\n",
    "        for key in values:\n",
    "            print(key, ' = ',values[key])\n",
    "    if event in (None, 'Exit'):\n",
    "        print(\"[LOG] Clicked Exit!\")\n",
    "        break\n",
    "    if event == 'About':\n",
    "        sg.popup('PySimpleGUI Demo All Elements',\n",
    "                    'Right click anywhere to see right click menu',\n",
    "                    'Visit each of the tabs to see available elements',\n",
    "                    'Output of event and values can be see in Output tab',\n",
    "                    'The event and values dictionary is printed after every event', keep_on_top=True)\n",
    "    elif event == 'Popup':\n",
    "        sg.popup(\"You pressed a button!\", keep_on_top=True)\n",
    "    elif event == 'Test Progress bar':\n",
    "        progress_bar = window['-PROGRESS BAR-']\n",
    "        for i in range(100):\n",
    "            progress_bar.update(current_count=i + 1)\n",
    "\n",
    "    elif event == \"Open Folder to Index\":\n",
    "        files = sg.popup_get_folder('Choose your folder', keep_on_top=True)\n",
    "        window['-INDEX DIRECTORY-'].update(files)\n",
    "\n",
    "        # Run file scanner on the folder\n",
    "        file_list = file_scanner(files, allowed_text_types=['pdf'])\n",
    "        file_list_display = '\\n'.join(file_list['filepath']) if file_list else 'No files found.'\n",
    "        window['-FILELIST_DISPLAY-'].update(file_list_display)\n",
    "\n",
    "    elif event == \"Open Index\":\n",
    "        folder_or_file = sg.popup_get_file('Choose your file', keep_on_top=True)\n",
    "        sg.popup(\"You chose: \" + str(folder_or_file), keep_on_top=True)\n",
    "\n",
    "    elif event == 'Create semantic index in addition to BM25':\n",
    "        flag_semantic_index = 1\n",
    "\n",
    "    elif event == '-BUILD_INDEX-':\n",
    "        if file_list == '':\n",
    "            sg.popup_error(\"No files to index. Please select a folder to index first.\", keep_on_top=True)\n",
    "        else:\n",
    "            sg.popup(\"Building chunk database. Please wait...\", keep_on_top=True, auto_close=True)\n",
    "            db = chunk_db(file_list=file_list, chunk_size=999999)\n",
    "            sg.popup(\"Creating BM25 index...\", keep_on_top=True, auto_close=True)\n",
    "            retriever = create_bm25_index(chunk_db_path='../chunked_db.json')\n",
    "            # get the full path of '../chunked_db.json'\n",
    "            full_path = os.path.abspath('../chunked_db.json')\n",
    "\n",
    "            sg.popup(\"Index built successfully!\", keep_on_top=True, auto_close=True, auto_close_duration=2)\n",
    "\n",
    "    elif event == '-SEARCH-QUERY-':\n",
    "        query = values['-SEARCH QUERY-']\n",
    "\n",
    "\n",
    "    elif event == \"Set Theme\":\n",
    "        theme_chosen = values['-THEME LISTBOX-'][0]\n",
    "        window.close()\n",
    "        window = make_window(theme_chosen)\n",
    "\n",
    "    elif event == 'Edit Me':\n",
    "        sg.execute_editor(__file__)\n",
    "        \n",
    "    elif event == 'Versions':\n",
    "        sg.popup_scrolled(__file__, sg.get_versions(), keep_on_top=True, non_blocking=True)\n",
    "\n",
    "window.close()"
   ]
  },
  {
   "cell_type": "code",
   "execution_count": 8,
   "id": "6d14643b",
   "metadata": {},
   "outputs": [
    {
     "data": {
      "text/plain": [
       "'c:\\\\Users\\\\sevan\\\\Documents\\\\GitHub\\\\super-search\\\\chunked_db.json'"
      ]
     },
     "execution_count": 8,
     "metadata": {},
     "output_type": "execute_result"
    }
   ],
   "source": [
    "os.path.abspath('../chunked_db.json')"
   ]
  }
 ],
 "metadata": {
  "kernelspec": {
   "display_name": ".venv",
   "language": "python",
   "name": "python3"
  },
  "language_info": {
   "codemirror_mode": {
    "name": "ipython",
    "version": 3
   },
   "file_extension": ".py",
   "mimetype": "text/x-python",
   "name": "python",
   "nbconvert_exporter": "python",
   "pygments_lexer": "ipython3",
   "version": "3.12.10"
  }
 },
 "nbformat": 4,
 "nbformat_minor": 5
}
