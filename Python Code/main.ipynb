{
 "cells": [
  {
   "cell_type": "code",
   "execution_count": null,
   "metadata": {},
   "outputs": [],
   "source": [
    "\"\"\"\n",
    "NOTE:\n",
    "Before running this, create a virtual environment running\n",
    "Python 3.12\n",
    "\"\"\" \n",
    "%pip install pynndescent\n",
    "%pip install torch \n",
    "%pip install transformers\n",
    "%pip install sentence-transformers\n",
    "%pip install pandas\n",
    "%pip install chonkie\n",
    "%pip install pymupdf\n",
    "%pip install PySimpleGUI"
   ]
  },
  {
   "cell_type": "code",
   "execution_count": null,
   "metadata": {},
   "outputs": [],
   "source": [
    "import os\n",
    "import sys\n",
    "\n",
    "# Add the current directory to the path\n",
    "sys.path.append(os.getcwd())\n",
    "from preprocess_fast_pymupdf import prepare_PDF"
   ]
  }
 ],
 "metadata": {
  "kernelspec": {
   "display_name": ".venv",
   "language": "python",
   "name": "python3"
  },
  "language_info": {
   "name": "python",
   "version": "3.12.8"
  }
 },
 "nbformat": 4,
 "nbformat_minor": 2
}
