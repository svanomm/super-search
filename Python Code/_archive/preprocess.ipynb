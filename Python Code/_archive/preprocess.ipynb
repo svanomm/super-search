{
 "cells": [
  {
   "cell_type": "code",
   "execution_count": null,
   "metadata": {},
   "outputs": [],
   "source": [
    "from pypdf import PdfReader"
   ]
  },
  {
   "cell_type": "code",
   "execution_count": 89,
   "metadata": {},
   "outputs": [],
   "source": [
    "# Stop Words: common english words that don't add information content\n",
    "stop_words = [\n",
    "      'i', 'me', 'my', 'myself', 'we', 'our', 'ours', 'ourselves'\n",
    "    , 'you', \"you're\", \"you've\", \"you'll\", \"you'd\", 'your', 'yours'\n",
    "    , 'yourself', 'yourselves', 'he', 'him', 'his', 'himself'\n",
    "    , 'she', \"she's\", 'her', 'hers', 'herself', 'it', \"it's\", 'its', 'itself'\n",
    "    , 'they', 'them', 'their', 'theirs', 'themselves', 'what'\n",
    "    , 'this', 'that', \"that'll\", 'these', 'those', 'am', 'is', 'are', 'was', 'were'\n",
    "    , 'be', 'been', 'being', 'have', 'has', 'had', 'having', 'do', 'does', 'did'\n",
    "    , 'doing', 'a', 'an', 'the', 'and', 'because'\n",
    "    , 'as', 'until', 'while', 'of', 'at', 'by', 'for', 'with', 'about'\n",
    "    , 'from', 'so', 'very', 'should', \"should've\"\n",
    "    ]\n",
    "\n",
    "# Drop words: other words/symbols that should be removed\n",
    "drop_words = [\n",
    "    '@','&',\"\\n\",\"\\r\",\"©\", \"\\t\"\n",
    "    , \"NBER WORKING PAPER SERIES\"\n",
    "    , \"NATIONAL BUREAU OF ECONOMIC RESEARCH\"\n",
    "    , \"National Bureau of Economic Research\"\n",
    "    , \"ABSTRACT\"\n",
    "]"
   ]
  },
  {
   "cell_type": "code",
   "execution_count": 94,
   "metadata": {},
   "outputs": [],
   "source": [
    "# Preprocessing function\n",
    "def preprocess(text):\n",
    "    # Connect words across lines\n",
    "    text = text.replace('-\\n', '')\n",
    "\n",
    "    # Drop words we don't care about where the symbol appears, doesn't need spaces\n",
    "    for word in drop_words:\n",
    "        text = text.replace(f'{word}', ' ')\n",
    "\n",
    "    for word in stop_words:\n",
    "        word_upper = word.title()\n",
    "        text = text.replace(f' {word} ', ' ')\n",
    "        text = text.replace(f' {word_upper} ', ' ')\n",
    "\n",
    "    text = text.replace('  ', ' ').replace('  ', ' ').replace('  ', ' ')\n",
    "    text = text.strip()\n",
    "    return(text)"
   ]
  },
  {
   "cell_type": "code",
   "execution_count": 95,
   "metadata": {},
   "outputs": [],
   "source": [
    "# Function to convert PDF to chunkable text\n",
    "def prepare_PDF(in_path):\n",
    "    reader = PdfReader(in_path)\n",
    "\n",
    "    # combine all pages into one list\n",
    "    paper = []\n",
    "    for page in reader.pages:\n",
    "        # extract text from page\n",
    "        page_text = page.extract_text()\n",
    "\n",
    "        # append to paper\n",
    "        paper.append(page_text)\n",
    "\n",
    "    # convert list into string\n",
    "    paper_one_string = ' '.join(paper)\n",
    "    paper_one_string = preprocess(paper_one_string)\n",
    "\n",
    "    return(paper_one_string)"
   ]
  }
 ],
 "metadata": {
  "kernelspec": {
   "display_name": ".venv",
   "language": "python",
   "name": "python3"
  },
  "language_info": {
   "codemirror_mode": {
    "name": "ipython",
    "version": 3
   },
   "file_extension": ".py",
   "mimetype": "text/x-python",
   "name": "python",
   "nbconvert_exporter": "python",
   "pygments_lexer": "ipython3",
   "version": "3.12.8"
  }
 },
 "nbformat": 4,
 "nbformat_minor": 2
}
