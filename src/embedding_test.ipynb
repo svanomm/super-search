{
 "cells": [
  {
   "cell_type": "code",
   "execution_count": 10,
   "id": "c6bc5681",
   "metadata": {},
   "outputs": [],
   "source": [
    "from utils import *\n",
    "from queries import *\n",
    "from indexes import *"
   ]
  },
  {
   "cell_type": "code",
   "execution_count": 11,
   "id": "f320096e",
   "metadata": {},
   "outputs": [],
   "source": [
    "repo = r\"C:\\Users\\sevan\\Documents\\GitHub\\super-search\\data\\tests\""
   ]
  },
  {
   "cell_type": "code",
   "execution_count": 12,
   "id": "2782c59b",
   "metadata": {},
   "outputs": [
    {
     "name": "stderr",
     "output_type": "stream",
     "text": [
      "INFO: Searching for files in C:\\Users\\sevan\\Documents\\GitHub\\super-search\\data\\tests with allowed types: ['.pdf', '.txt', '.r', '.do', '.py', '.ipynb', '.sas', '.sql', '.vba', '.md']\n",
      "INFO: Done scanning.\n",
      "INFO: File list saved to file_list.json with 31 files.\n"
     ]
    }
   ],
   "source": [
    "files, file_dict = file_scanner(repo)"
   ]
  },
  {
   "cell_type": "code",
   "execution_count": 14,
   "id": "237ded51",
   "metadata": {},
   "outputs": [
    {
     "name": "stderr",
     "output_type": "stream",
     "text": [
      "INFO: Successfully loaded existing file list.\n",
      "INFO: Processing 31 files for chunking...\n",
      "INFO: Processing file 1/31: C:\\Users\\sevan\\Documents\\GitHub\\super-search\\data\\tests\\32165.pdf\n",
      "Extracting text from PDF: 100%|██████████| 29/29 [00:00<00:00, 674.45it/s]\n",
      "INFO: Processing file 2/31: C:\\Users\\sevan\\Documents\\GitHub\\super-search\\data\\tests\\32189.pdf\n",
      "Extracting text from PDF: 100%|██████████| 30/30 [00:00<00:00, 882.34it/s]\n",
      "INFO: Processing file 3/31: C:\\Users\\sevan\\Documents\\GitHub\\super-search\\data\\tests\\32267.pdf\n",
      "Extracting text from PDF: 100%|██████████| 45/45 [00:00<00:00, 978.13it/s]\n",
      "INFO: Processing file 4/31: C:\\Users\\sevan\\Documents\\GitHub\\super-search\\data\\tests\\32286.pdf\n",
      "Extracting text from PDF: 100%|██████████| 60/60 [00:00<00:00, 1200.09it/s]\n",
      "INFO: Processing file 5/31: C:\\Users\\sevan\\Documents\\GitHub\\super-search\\data\\tests\\Acemoglu et al. (QJE 2002) - Reversal of Fortune - Geography and Institutions in the Making of the Modern World Income.pdf\n",
      "Extracting text from PDF: 100%|██████████| 65/65 [00:00<00:00, 1182.11it/s]\n",
      "INFO: Processing file 6/31: C:\\Users\\sevan\\Documents\\GitHub\\super-search\\data\\tests\\Banerjee and Duflo (JEP 2007) The Economic Lives of the Poor.pdf\n",
      "Extracting text from PDF: 100%|██████████| 27/27 [00:00<00:00, 818.17it/s]\n",
      "INFO: Processing file 7/31: C:\\Users\\sevan\\Documents\\GitHub\\super-search\\data\\tests\\Banerjee et al. (2006) - Understanding Poverty.pdf\n",
      "Extracting text from PDF: 100%|██████████| 456/456 [00:00<00:00, 737.86it/s]\n",
      "INFO: Processing file 8/31: C:\\Users\\sevan\\Documents\\GitHub\\super-search\\data\\tests\\Besley and Burgess (JEP 2003) - Halving Global Poverty.pdf\n",
      "Extracting text from PDF: 100%|██████████| 20/20 [00:00<00:00, 666.67it/s]\n",
      "INFO: Processing file 9/31: C:\\Users\\sevan\\Documents\\GitHub\\super-search\\data\\tests\\Bleakley (AEJ 2010) - Malaria Eradication in the Americas - A Retrospective.pdf\n",
      "Extracting text from PDF: 100%|██████████| 45/45 [00:00<00:00, 608.05it/s]\n",
      "INFO: Processing file 10/31: C:\\Users\\sevan\\Documents\\GitHub\\super-search\\data\\tests\\Dell et al. (AEJ 2012) - Temperature Shocks and Economic Growth - Evidence from the Last Half Century.pdf\n",
      "Extracting text from PDF: 100%|██████████| 30/30 [00:00<00:00, 681.81it/s]\n",
      "INFO: Processing file 11/31: C:\\Users\\sevan\\Documents\\GitHub\\super-search\\data\\tests\\Duflo (AER 2001) - Schooling and Labor Market Consequences of School Construction in Indonesia.pdf\n",
      "Extracting text from PDF: 100%|██████████| 19/19 [00:00<00:00, 826.06it/s]\n",
      "INFO: Processing file 12/31: C:\\Users\\sevan\\Documents\\GitHub\\super-search\\data\\tests\\Duflo and Kremer (2003) - Use of Randomization in the Evaluation of Development Effectiveness.pdf\n",
      "Extracting text from PDF: 100%|██████████| 37/37 [00:00<00:00, 1321.28it/s]\n",
      "INFO: Processing file 13/31: C:\\Users\\sevan\\Documents\\GitHub\\super-search\\data\\tests\\Hall and Jones (QJE 1999) Why Do Some Countries Produce So Much More Output Per Worker Than Others Copy.pdf\n",
      "Extracting text from PDF: 100%|██████████| 35/35 [00:00<00:00, 853.70it/s]\n",
      "INFO: Processing file 14/31: C:\\Users\\sevan\\Documents\\GitHub\\super-search\\data\\tests\\Hall and Jones (QJE 1999) Why Do Some Countries Produce So Much More Output Per Worker Than Others.pdf\n",
      "Extracting text from PDF: 100%|██████████| 35/35 [00:00<00:00, 874.90it/s]\n",
      "INFO: Processing file 15/31: C:\\Users\\sevan\\Documents\\GitHub\\super-search\\data\\tests\\Hanna and Olken (JEP 2018) - Universal Basic Incomes versus Targeted Transfers.pdf\n",
      "Extracting text from PDF: 100%|██████████| 26/26 [00:00<00:00, 634.18it/s]\n",
      "INFO: Processing file 16/31: C:\\Users\\sevan\\Documents\\GitHub\\super-search\\data\\tests\\Miguel and Kremer (Econometrica 2004) - Worms - Identifying Impacts on Education and Health in the Presence of Treatment.pdf\n",
      "Extracting text from PDF: 100%|██████████| 60/60 [00:00<00:00, 769.25it/s]\n",
      "INFO: Processing file 17/31: C:\\Users\\sevan\\Documents\\GitHub\\super-search\\data\\tests\\Nunn (QJE 2008) - The Long-term Effects of Africa's Slave Trades.pdf\n",
      "Extracting text from PDF: 100%|██████████| 38/38 [00:00<00:00, 1055.52it/s]\n",
      "INFO: Processing file 18/31: C:\\Users\\sevan\\Documents\\GitHub\\super-search\\data\\tests\\Page and Pande (JEP 2018) - Ending Global Poverty - Why Money Isn’t Enough.pdf\n",
      "Extracting text from PDF: 100%|██████████| 28/28 [00:00<00:00, 636.34it/s]\n",
      "INFO: Processing file 19/31: C:\\Users\\sevan\\Documents\\GitHub\\super-search\\data\\tests\\Pages from Ch3-TodaroSmith.pdf\n",
      "Extracting text from PDF: 100%|██████████| 46/46 [00:00<00:00, 938.54it/s]\n",
      "INFO: Processing file 20/31: C:\\Users\\sevan\\Documents\\GitHub\\super-search\\data\\tests\\Pages from Ch4-TodaroSmith.pdf\n",
      "Extracting text from PDF: 100%|██████████| 51/51 [00:00<00:00, 749.97it/s]\n",
      "INFO: Processing file 21/31: C:\\Users\\sevan\\Documents\\GitHub\\super-search\\data\\tests\\Ravallion (2005) - Inequality is Bad for the Poor.pdf\n",
      "Extracting text from PDF: 100%|██████████| 50/50 [00:00<00:00, 1612.81it/s]\n",
      "INFO: Processing file 22/31: C:\\Users\\sevan\\Documents\\GitHub\\super-search\\data\\tests\\README.md\n",
      "INFO: Processing file 23/31: C:\\Users\\sevan\\Documents\\GitHub\\super-search\\data\\tests\\requirements.txt\n",
      "INFO: Processing file 24/31: C:\\Users\\sevan\\Documents\\GitHub\\super-search\\data\\tests\\test file.do\n",
      "INFO: Processing file 25/31: C:\\Users\\sevan\\Documents\\GitHub\\super-search\\data\\tests\\test file.txt\n",
      "INFO: Processing file 26/31: C:\\Users\\sevan\\Documents\\GitHub\\super-search\\data\\tests\\Lecture Notes\\Lec1-BC-1.pdf\n",
      "Extracting text from PDF: 100%|██████████| 11/11 [00:00<00:00, 1833.25it/s]\n",
      "INFO: Processing file 27/31: C:\\Users\\sevan\\Documents\\GitHub\\super-search\\data\\tests\\Lecture Notes\\Lec1.2-BigPicture.pdf\n",
      "Extracting text from PDF: 100%|██████████| 24/24 [00:00<00:00, 1845.51it/s]\n",
      "INFO: Processing file 28/31: C:\\Users\\sevan\\Documents\\GitHub\\super-search\\data\\tests\\Lecture Notes\\Lec2.1-Inequality.pdf\n",
      "Extracting text from PDF: 100%|██████████| 21/21 [00:00<00:00, 1166.63it/s]\n",
      "INFO: Processing file 29/31: C:\\Users\\sevan\\Documents\\GitHub\\super-search\\data\\tests\\Lecture Notes\\Lec2.2-Inequality.pdf\n",
      "Extracting text from PDF: 100%|██████████| 24/24 [00:00<00:00, 2666.65it/s]\n",
      "INFO: Processing file 30/31: C:\\Users\\sevan\\Documents\\GitHub\\super-search\\data\\tests\\Lecture Notes\\Lec3.1-Growth Theories.pdf\n",
      "Extracting text from PDF: 100%|██████████| 46/46 [00:00<00:00, 1642.89it/s]\n",
      "INFO: Processing file 31/31: C:\\Users\\sevan\\Documents\\GitHub\\super-search\\data\\tests\\Lecture Notes\\Lec3.2-Growth Theories.pdf\n",
      "Extracting text from PDF: 100%|██████████| 31/31 [00:00<00:00, 1476.21it/s]\n",
      "INFO: Done processing files.\n",
      "INFO: Creating chunk IDs...\n",
      "INFO: Saving chunk database to file...\n",
      "INFO: Processed 19093 chunks from 31 files.\n",
      "INFO: Data saved to ./chunked_db.json\n"
     ]
    }
   ],
   "source": [
    "chunks = chunk_db(file_list=files, chunk_size=32, chunk_overlap=4)"
   ]
  },
  {
   "cell_type": "code",
   "execution_count": 15,
   "id": "bfef14b8",
   "metadata": {},
   "outputs": [
    {
     "name": "stderr",
     "output_type": "stream",
     "text": [
      "INFO: Creating BM25 index...                                            \n",
      "Indexing corpus:   0%|          | 0/1 [00:00<?, ?step/s]DEBUG: Building index from IDs objects\n",
      "Indexing corpus: 100%|██████████| 1/1 [00:00<00:00,  4.83step/s]\n",
      "INFO: Saving the BM25 index...\n"
     ]
    }
   ],
   "source": [
    "retriever = create_bm25_index(chunks=chunks)"
   ]
  },
  {
   "cell_type": "code",
   "execution_count": 18,
   "id": "286c2800",
   "metadata": {},
   "outputs": [
    {
     "name": "stderr",
     "output_type": "stream",
     "text": [
      "                                                     \r"
     ]
    },
    {
     "data": {
      "text/plain": [
       "{'processed_chunk': ['CPS = Current Population Survey The unit of observation is a respondent in state in a monthyear Data are weighted by CPS-provided survey weights 42 Table 2 Effect of a state COVID-19',\n",
       "  '53,449 Notes CPS = Current Population Survey The unit of observation is a respondent in state in a monthyear All variables except for population are binary standard deviation of population is in',\n",
       "  'workers on the probability of working in the healthcare sector sequentially excluding each treatment state CPS 2021-2022 Notes CPS = Current Population Survey The excluded state is listed in the figure legend',\n",
       "  'the probability of working in the healthcare sector using different specifications and samples CPS 2021-2022 Notes CPS = Current Population Survey The regression includes a state COVID-19 vaccine mandate for healthcare workers',\n",
       "  'N N N Y Notes CPS = Current Population Survey The variable of interest = healthcare worker COVID-19 mandate The variable is contemporaneous for exit and lagged one month for entry The',\n",
       "  'the probability of working in the healthcare sector using alternative event-study specifications and samples CPS 2021-2022 Notes CPS = Current Population Survey The regression includes a state COVID-19 vaccine mandate for healthcare',\n",
       "  'the healthcare sector using an event-study specification that is robust to bias from dynamic and heterogeneous treatment effects CPS 2021-2022 Notes CPS = Current Population Survey The regression includes respondent characteristics, state',\n",
       "  'and substance abuse hospitals 8192 Nursing care facilities 8270 Residential care facilities, without nursing 8290 Notes CPS = Current Population Survey We use the variable IND included in the IPUMS harmonized CPS',\n",
       "  'adopted a mandate in the same period (monthyear) CPS = Current Population Survey The excluded state is listed in the figure legend The regression includes a state COVID-19 vaccine mandate for healthcare',\n",
       "  'CPS 2021-2022 Notes CPS = Current Population Survey The regression includes a state COVID-19 vaccine mandate for healthcare workers (lagged one month), respondent characteristics, state characteristics, state fixed effects, and month-year fixed'],\n",
       " 'score': [0.11632297540218227,\n",
       "  0.10801183338785982,\n",
       "  0.10293453301807594,\n",
       "  0.09935493332127572,\n",
       "  0.09836053394774459,\n",
       "  0.09765886810807642,\n",
       "  0.09765886810807642,\n",
       "  0.09602092843995942,\n",
       "  0.09224955629896553,\n",
       "  0.09142696996778388],\n",
       " 'chunk_id': [1700, 1818, 1767, 1763, 1741, 1681, 1687, 1783, 1772, 1676],\n",
       " 'file_id': ['621e4a8c4251ee7b04c698d7f5f74717c3d6f36f',\n",
       "  '621e4a8c4251ee7b04c698d7f5f74717c3d6f36f',\n",
       "  '621e4a8c4251ee7b04c698d7f5f74717c3d6f36f',\n",
       "  '621e4a8c4251ee7b04c698d7f5f74717c3d6f36f',\n",
       "  '621e4a8c4251ee7b04c698d7f5f74717c3d6f36f',\n",
       "  '621e4a8c4251ee7b04c698d7f5f74717c3d6f36f',\n",
       "  '621e4a8c4251ee7b04c698d7f5f74717c3d6f36f',\n",
       "  '621e4a8c4251ee7b04c698d7f5f74717c3d6f36f',\n",
       "  '621e4a8c4251ee7b04c698d7f5f74717c3d6f36f',\n",
       "  '621e4a8c4251ee7b04c698d7f5f74717c3d6f36f'],\n",
       " 'file_properties': [{'filepath': 'C:\\\\Users\\\\sevan\\\\Documents\\\\GitHub\\\\super-search\\\\data\\\\tests\\\\32286.pdf',\n",
       "   'last_modified': '2025-01-23 11:01:59',\n",
       "   'file_size': 0,\n",
       "   'date_added': '2025-10-12 19:50:46'},\n",
       "  {'filepath': 'C:\\\\Users\\\\sevan\\\\Documents\\\\GitHub\\\\super-search\\\\data\\\\tests\\\\32286.pdf',\n",
       "   'last_modified': '2025-01-23 11:01:59',\n",
       "   'file_size': 0,\n",
       "   'date_added': '2025-10-12 19:50:46'},\n",
       "  {'filepath': 'C:\\\\Users\\\\sevan\\\\Documents\\\\GitHub\\\\super-search\\\\data\\\\tests\\\\32286.pdf',\n",
       "   'last_modified': '2025-01-23 11:01:59',\n",
       "   'file_size': 0,\n",
       "   'date_added': '2025-10-12 19:50:46'},\n",
       "  {'filepath': 'C:\\\\Users\\\\sevan\\\\Documents\\\\GitHub\\\\super-search\\\\data\\\\tests\\\\32286.pdf',\n",
       "   'last_modified': '2025-01-23 11:01:59',\n",
       "   'file_size': 0,\n",
       "   'date_added': '2025-10-12 19:50:46'},\n",
       "  {'filepath': 'C:\\\\Users\\\\sevan\\\\Documents\\\\GitHub\\\\super-search\\\\data\\\\tests\\\\32286.pdf',\n",
       "   'last_modified': '2025-01-23 11:01:59',\n",
       "   'file_size': 0,\n",
       "   'date_added': '2025-10-12 19:50:46'},\n",
       "  {'filepath': 'C:\\\\Users\\\\sevan\\\\Documents\\\\GitHub\\\\super-search\\\\data\\\\tests\\\\32286.pdf',\n",
       "   'last_modified': '2025-01-23 11:01:59',\n",
       "   'file_size': 0,\n",
       "   'date_added': '2025-10-12 19:50:46'},\n",
       "  {'filepath': 'C:\\\\Users\\\\sevan\\\\Documents\\\\GitHub\\\\super-search\\\\data\\\\tests\\\\32286.pdf',\n",
       "   'last_modified': '2025-01-23 11:01:59',\n",
       "   'file_size': 0,\n",
       "   'date_added': '2025-10-12 19:50:46'},\n",
       "  {'filepath': 'C:\\\\Users\\\\sevan\\\\Documents\\\\GitHub\\\\super-search\\\\data\\\\tests\\\\32286.pdf',\n",
       "   'last_modified': '2025-01-23 11:01:59',\n",
       "   'file_size': 0,\n",
       "   'date_added': '2025-10-12 19:50:46'},\n",
       "  {'filepath': 'C:\\\\Users\\\\sevan\\\\Documents\\\\GitHub\\\\super-search\\\\data\\\\tests\\\\32286.pdf',\n",
       "   'last_modified': '2025-01-23 11:01:59',\n",
       "   'file_size': 0,\n",
       "   'date_added': '2025-10-12 19:50:46'},\n",
       "  {'filepath': 'C:\\\\Users\\\\sevan\\\\Documents\\\\GitHub\\\\super-search\\\\data\\\\tests\\\\32286.pdf',\n",
       "   'last_modified': '2025-01-23 11:01:59',\n",
       "   'file_size': 0,\n",
       "   'date_added': '2025-10-12 19:50:46'}]}"
      ]
     },
     "execution_count": 18,
     "metadata": {},
     "output_type": "execute_result"
    }
   ],
   "source": [
    "text = \"Current Population Survey (CPS)\"\n",
    "results = query_bm25(\n",
    "    query = text,\n",
    "    retriever=retriever,\n",
    "    num_results=10)\n",
    "convert_results(results, chunks, file_dict)"
   ]
  },
  {
   "cell_type": "code",
   "execution_count": null,
   "id": "88939b8c",
   "metadata": {},
   "outputs": [
    {
     "data": {
      "text/plain": [
       "{'processed_chunk': ['data from the monthly Current Population Survey (CPS) from January 2021 to December 2022 – the period in which state COVID-19 2 employment vaccine mandates were in place We match vaccine mandates',\n",
       "  'study the impact of COVID-19 vaccine mandates on healthcare industry employment, we draw data from two primary sources First, we use the monthly Current Population Survey (CPS) to construct a sample of'],\n",
       " 'score': [0.5, 0.5],\n",
       " 'chunk_id': [1170, 1251],\n",
       " 'file_id': ['621e4a8c4251ee7b04c698d7f5f74717c3d6f36f',\n",
       "  '621e4a8c4251ee7b04c698d7f5f74717c3d6f36f'],\n",
       " 'file_properties': [{'filepath': 'C:\\\\Users\\\\sevan\\\\Documents\\\\GitHub\\\\super-search\\\\data\\\\tests\\\\32286.pdf',\n",
       "   'last_modified': '2025-01-23 11:01:59',\n",
       "   'file_size': 0,\n",
       "   'date_added': '2025-10-12 19:50:46'},\n",
       "  {'filepath': 'C:\\\\Users\\\\sevan\\\\Documents\\\\GitHub\\\\super-search\\\\data\\\\tests\\\\32286.pdf',\n",
       "   'last_modified': '2025-01-23 11:01:59',\n",
       "   'file_size': 0,\n",
       "   'date_added': '2025-10-12 19:50:46'}]}"
      ]
     },
     "metadata": {},
     "output_type": "display_data"
    }
   ],
   "source": [
    "text = \"Current Population Survey (CPS)\"\n",
    "results = query_direct(\n",
    "    query = text,\n",
    "    chunks=chunks,\n",
    "    num_results=10)\n",
    "convert_results(results, chunks, file_dict)"
   ]
  },
  {
   "cell_type": "code",
   "execution_count": 7,
   "id": "f94cce06",
   "metadata": {},
   "outputs": [
    {
     "name": "stderr",
     "output_type": "stream",
     "text": [
      "INFO: Folder does not exist locally, attempting to use huggingface hub.\n",
      "INFO: Encoding the text...\n",
      "100%|██████████| 2/2 [00:00<00:00,  3.91it/s]\n",
      "INFO: Creating the nearest-neighbor index...\n"
     ]
    },
    {
     "name": "stdout",
     "output_type": "stream",
     "text": [
      "Sun Oct 12 19:46:01 2025 Building RP forest with 11 trees\n",
      "Sun Oct 12 19:46:04 2025 NN descent for 10 iterations\n",
      "\t 1  /  10\n",
      "\t 2  /  10\n",
      "\t 3  /  10\n",
      "\t 4  /  10\n",
      "\tStopping threshold met -- exiting after 4 iterations\n",
      "Sun Oct 12 19:46:12 2025 Worst tree score: 0.65721878\n",
      "Sun Oct 12 19:46:12 2025 Mean tree score: 0.68395201\n",
      "Sun Oct 12 19:46:12 2025 Best tree score: 0.71833481\n",
      "Sun Oct 12 19:46:13 2025 Forward diversification reduced edges from 11290 to 4714\n",
      "Sun Oct 12 19:46:15 2025 Reverse diversification reduced edges from 4714 to 4714\n",
      "Sun Oct 12 19:46:16 2025 Degree pruning reduced edges from 4514 to 4514\n",
      "Sun Oct 12 19:46:16 2025 Resorting data and graph based on tree order\n",
      "Sun Oct 12 19:46:16 2025 Compressing index by removing unneeded attributes\n",
      "Sun Oct 12 19:46:16 2025 Building and compiling search function\n"
     ]
    },
    {
     "name": "stderr",
     "output_type": "stream",
     "text": [
      "INFO: Saving the nearest-neighbor index...\n",
      "INFO: Saved the NN data to ./nn_database.pkl.\n"
     ]
    }
   ],
   "source": [
    "index = create_ann_index(chunks=chunks)"
   ]
  },
  {
   "cell_type": "code",
   "execution_count": 9,
   "id": "26ab24fa",
   "metadata": {},
   "outputs": [
    {
     "name": "stderr",
     "output_type": "stream",
     "text": [
      "INFO: Folder does not exist locally, attempting to use huggingface hub.\n"
     ]
    },
    {
     "data": {
      "text/plain": [
       "{'processed_chunk': ['is expressed in logarithms (proportionately) of real gross domestic product (GDP) per person over age fifteen (i e , productivity per adult), and fertility is measured by the total fertility rate (TFR) that sums the age-specific birthrates for all women aged fifteen to forty-nine The TFR thus represents the number of children a woman would be expected to have if she survived to age fifty and experienced the current age-specific birthrate at each age The solid line is the linear fit to the 1960 observations, and the dashed line is the linear fit to the 2000 observations From this linear pattern in the data it appears that a 10% increase in a country’s GDP per adult is associated with a 13% lower TFR in both 1960 and 2000 Does this relatively stable and statistically significant association across countries accurately forecast how income and fertility changed within countries during this time? Not very well, because log income per adult increased by 2 14 in forty years, implying a compounded rate of growth of about 5 3% per year, while TFR decreased by two fifths, declining by about 1% per year 2 If the cross-country relationship in either 1960 or 2000 had been used to forecast fertility, an even steeper decline in fertility would have been expected Figure 9 1 Total Fertility Rates by Adult Productivity in 1960 and 2000 To assess the slope of the relationship between household income per adult and the number of children a woman bears over her lifetime, I will later examine a national representative survey of households This 1997 Welfare Monitoring Survey of Kenya asks respondents about household income and consumption, and fertility One approximation for the total income of households in poor countries is the consumption of all household members Fertility is commonly measured by the number of children ever born to women who have completed their reproductive period, say older than forty-four but to include younger women whose fertile period may not yet be complete, adjustments must be made for the age of the women as it affects fertility as well as household income per adult In statistically fitting this relationship to household data, the association between log consumption per adult and fertility for women aged twenty-five to forty-four is represented by a less steeply negative slope, suggesting that a 10% increase in income is associated with a 1% decrease in fertility Although the slope of the relationship at the household level has a smaller negative value than the slope across countries, both relationships are statistically very significant In other words, the absolute value of the correlation exceeds what is likely to occur between two random variables But the general argument advanced in this essay is that associations between two outcomes that are affected by coordinated family behavior should not immediately be interpreted as a causal relationship Only if additional information is available on distinguishable sources of “outside” variation in income or in fertility that are plausibly independent of factors affecting the other variable, or that arise from processes occurring outside of the family, is it',\n",
       "  'effect of twins-on-first-parity, which is a better measure because it includes all women with at least one child, each one time (Olsen 1980 Royston and Altman 1994) 10 The first study I know of to examine the effect of twins on fertility and family outcomes was based on a rural Indian survey from 1971 (Rosenzweig and Wolpin 1980), in which twins are associated with a mother having 8 more children, and with the woman’s other children having a significantly lower educational attainment, presumably due to the twins Other studies have shown that fertility variation that is not explained by birth-control practices and socioeconomic controls is negatively associated with child health and schooling in Malaysia (Rosenzweig and Schultz 1987) Studies of high-income countries have examined the consequences of twins on decisions regarding marriage and receipt of public assistance (Bronars and Grogger 1994) 11 This procedure of including the asset-identified income and the residual income among the explanatory variables in the fertility equation is analogous to the Hausman (1978) specification test in which one rejects the exogeneity of income as a determinant of fertility 12 This variable is transformed into a Z score, defined as a deviation of the child’s W/H from the median value in a reference population of children of the same age and sex, and divided by the standard deviation of W/H in each age and sex category The World Health Organization’s (1986, 1995) recommended strategy is to compare the child’s growth with a population of healthy children, and a common standard is provided by the Centers for Disease Control and Prevention in Atlanta, based on large samples of U S children Alternatively, we used the Kenyan survey itself to provide a smoothed estimate by gender of the age curve for W/H and its standard deviation, since we are more interested in relative ranking of nutritional status among the Kenyan children than in comparing Kenyan children against an international standard derived from a relatively well-nourished population Both standardized indicators of W/H, based on the U S and Kenyan populations, yielded very similar results, though not precisely the same across genders or rural-urban differences 13 For example, the effect of a twin on W/H would approximately offset the substantial gains associated with a mother having completed five additional years of schooling, according to the estimates based on the 1997 Kenyan survey BIBLIOGRAPHY Becker, Gary A Treatise on the Family Cambridge, Mass Harvard University Press, 1981 Becker, Gary, and Gregg Lewis “Interaction between Quantity and Quality of Children ” In The Economics of the Family, edited by T W Schultz Chicago University of Chicago Press, 1974 Bloom, David, and Jeffrey Sachs “Geography, Demography, and Economic Growth in Africa ” Brookings Papers on Economic Activity 2 (1998) 207–273 Bongaarts, John, and Robert G Potter Fertility, Biology, and Behavior New York Academic Press, 1983 Brass, William, and Carole L Jolly, eds Population Dynamics of Kenya Washington, D C National Academy Press, 1993 Bronars, Stephen, and Jeff Grogger “The Economic Consequences of Unwed Motherhood Using Twin Births as a Natural Experiment ” American Economic Review 84',\n",
       "  '(1967) has noted, as did the classical economists, that early periods of rapid population growth are often periods when per capita economic growth is above average (Smith [1776] 1961 Malthus [1789] 1993) This cross-country negative pattern emerging in the 1990s may thus be a peculiar reflection of the fact that the countries for which population growth exceeds 2% per year are increasingly concentrated in sub-Saharan Africa, the one region that has experienced slow or negative rates of economic growth since the 1970s The current cross-country inverse pattern between population and economic growth may, therefore, not be specifically due to population growth, but rather to other factors that are unusually common in Africa today, such as communicable diseases including malaria, TB, and HIV/AIDS, and prolonged disruptive wars and civil conflict (Bloom and Sachs 1998) By concentrating on observations at the family level rather than observations at the country level, I can set aside some of these unresolved issues involving the determinants of aggregate economic growth, and focus on other questions—of disentangling causal effects between fertility and income at the family level FAMILY-LEVEL MEASURES OF WELFARE At the level of the family, do higher levels of parents’ economic prosperity lead parents to have a smaller number of children, and does lower fertility lead to improved developmental outcomes for children in those families? Interfamily welfare comparisons are often based on total expenditures per household in a given time period, such as a year To these market expenditures are then added home production, such as food that is produced and consumed in the home, and the imputed value of the consumer services that the household derives from its physical assets, predominantly in the form of owner-occupied housing and consumer durables This measure of total market-purchased and home-produced consumption is a widely used approximation for “permanent income,” or the present discounted value of average lifetime income opportunities, which is expected to influence the welfare of household members in the long run In contrast, “current income” is heavily affected by temporary fluctuations in income that households are expected to try to smooth over time into their current flow of consumption, by adding to or drawing down lifecycle savings (debt) Lifetime expected income is therefore the family resource variable that should be related to lifetime fertility, and this lifetime income constraint is approximated by examining total household consumption This consumption is then divided by the number of adults in the household who share the consumption, to arrive at a measure of average consumption opportunities or, from the perspective of production, average adult productivity 3 Because one objective of this essay is to examine the relationship between economic income and fertility, it is inappropriate to measure income as the household’s per capita consumption, allowing explicitly for the “needs” of children in the household The convention of measuring parents’ consumption opportunities in per capita terms explicitly introduces parents’ reproductive choices inversely into the measure of parents’ consumption opportunities If my goal is to estimate the causal relationship between parents’ economic opportunities and their fertility, dividing consumption opportunities by the number of',\n",
       "  'choices inversely into the measure of parents’ consumption opportunities If my goal is to estimate the causal relationship between parents’ economic opportunities and their fertility, dividing consumption opportunities by the number of children they choose to have will interject a spurious negative partial correlation into the measured relationship Consequently, household welfare is measured here by consumption per adult 4 SOURCES OF FERTILITY VARIATION REPRODUCTIVE SUPPLY AND BEHAVIORAL DEMAND To understand how fertility is determined and how economic opportunities and constraints might be causally related to fertility outcomes, a simple model is needed in which the supply of births can be distinguished from the demand for births Demographers distinguish between the proximate determinants of fertility, or the sequence of biological events that occur to produce a birth, and the variations in behavior that modify the occurrence of these proximate determinants (Bongaarts and Potter 1983) To model fertility behavior as an economic resources-constrained choice, one may assume each couple is assigned a reproductive endowment (supply) that is affected by a random fecundity shock, and the couple then practices birth control or modifies other behavior related to fertility in order to better realize the number of births they want (demand) (Rosenzweig and Schultz 1985) Although a couple does not initially know their supply, they may learn over time from experience 5 Since we lack good proxies in a survey for the fecundity of couples, we assume this reproductive endowment to be persistent over time and is approximated by the past fertility “success” of the couple, holding constant for their past practice of birth control, which is itself selected by the couple in light of their fertility goals and evolving information about their reproductive endowment (M Rosenzweig and Schultz, 1985, 1987) Within this supply-demand framework there are two sources of variation in observed fertility The first component is related to genetic and random differences in fecundity The second component includes the effect of systematic behavioral changes, notably including the adoption of birth control But fertility is also affected by many other choices, such as age at marriage and duration of breast-feeding, which delays the resumption of ovulation One way seemingly random supply variation among couples may impact their fertility is through their likelihood of having twins Behavioral variation in fertility may respond to different perceived costs and benefits of children, including the pecuniary and psychic costs of using birth control The former genetic variation in fertility supply may be thought of as an unanticipated shock, whereas the latter behavioral variation in fertility demand could respond to parents’ perceived net benefit to having additional children, due either to observable factors (i e , prices, wages, or wealth) or to unobserved preferences (i e , tastes) of parents for children relative to other uses of their lifetime resources In the case of the genetic variation in fertility supply, this source of fertility is not expected to be correlated with the parents’ preferences or other unobserved behavioral constraints that could also modify family opportunities The genetic variation in fertility would therefore operate like a randomized experiment 6 If fertility',\n",
       "  'evidence on the effect of child labor on fertility is provided by Cigno and Rosati (2001), who analyze data gathered in 1994 by the Human Development of India Survey The data cover around 35,000 rural households in over 1,700 villages drawn from 16 Indian states Apart from income and other economic variables pertaining to adults, the data contain information on children’s work/study status and their health, nutritional, and education status Cigno and Rosati use the average survival rate at the village level as a measure of the probability of children surviving to age six They set up two possible theoretical scenarios in which parents choose the fertility, the expenditures that impinge on child mortality, and the work/study decisions of their children In one scenario, the parents are altruistic, in that they give full weight to their children’s well-being in the other (nonaltruistic) one, they are concerned only with their own well-being Cigno and Rosati found that, holding income constant, an increase in the number of school-age children increases the probability that the children will work The probability of an additional birth was also seen to increase with the probability that a child will work when older Furthermore, they found that when the village-level survival rate increases, so does the probability that children will be engaged in full-time study—which is consistent with the scenario positing nonaltruistic parents (but not with that of altruistic ones) This finding is also consistent with the arguments made above on the beneficial effect of reduced child mortality on education THE IMPORTANCE OF FEMALE AUTONOMY The role of female autonomy in decision making is increasingly being acknowledged as an important factor impinging on fertility Dyson and Moore (1983), were the first to discuss this factor in relation to the demographics of Indian states There is considerable difference in the demographics of the northern and southern states of India The northern states, characterized by low female autonomy due to kinship arrangements that minimize support to married women, display high fertility and high child mortality rates Women in these states typically marry relative strangers from other villages and after marriage retain almost no ties with their natal families In the southern states, women have considerable autonomy marriages tend to occur within the village to grooms who are not relative strangers, and women maintain considerable contact with their natal families after marriage Female autonomy is important because it determines the relative bargaining power of women in the household Even in developed countries, the relative bargaining power within couples is skewed in favor of males in developing countries, the disparity is far greater This asymmetry has many causes Males are more likely to work in the labor force, and even if the wife earns, the husband’s income is likely to be higher Ownership of property—in particular, land—is vested in the male Therefore, any credit that may be available to the household is accessible only to the male Adding to this is the considerable weight of religious, cultural, and social norms that put women in a weak bargaining position relative to men As remarked',\n",
       "  '(or richer), and among these factors I would expect the diversity of preferences for children and of productive capabilities to be important Household consumption per adult, my initial indicator of parent income, is significantly positively associated with the ownership of land, and the receipt of agricultural and nonagricultural rents These three physical asset sources of income are generally positively related to fertility in Kenya A 10% increase in household consumption per adult, arising from these asset sources of income, is associated with an increase in fertility of 19 child in 1994 and 17 child in 1997, where the average fertility in the survey samples is about four children But a 10% increase in household consumption per adult from sources other than the three asset variables is negatively related to fertility, reducing fertility by 20 child in 1994 and by 18 child in 1997 In other words, the estimated effect of increasing assets is to increase fertility, whereas increasing other sources of income, such as labor earnings, decreases fertility, and both relationships are highly significant in both surveys 11 An increase in the mother’s schooling attainment by one year is associated with her household consumption per adult rising by 4 1% in 1994 and by 4 9% in 1997, and these effects are larger than those associated with the schooling of the father If the household consumption effect of the woman’s schooling is held constant, each additional year of her schooling has an additional effect of reducing her fertility by 12 child in both 1994 and 1997 These estimates underscore how different sources of income and human capital exhibit markedly different partial associations with fertility It is important, therefore, to distinguish among the different sources of income in order to understand the impacts of economic development on fertility and the timing of the demographic transition in a particular society A second indicator of family outcome is drawn from the survey’s reports on the height and weight of children under five years of age A common anthropometric indicator of the health and nutritional status of children from ages six to sixty months is the ratio of a child’s weight to height (W/H) 12 One more child born to a Kenyan woman is associated with a – 032 standard deviation change in the W/H of her young children in 1994 and a – 037 standard deviation change in 1997 This anthropometric indicator tends to be positively associated with the child’s chances of survival, later health status, subsequent performance in school, and eventual productivity as an adult worker Thus, a decline in W/H associated with a rise in fertility suggests that an additional child may involve a real cost in terms of child health But when one focuses only on the fertility variation associated with twins, the child nutrition effect is much larger – 11 and – 20 standard deviation in 1994 and 1997, respectively 13 The purpose of distinguishing between the random event of a birth of twins and other sources of behaviorally influenced fertility variation is to show that the supply and demand components',\n",
       "  'and Schultz 1987) 6 Twins tend to occur in 1–3% of pregnancies, but with the recent developments in drug treatments to deal with infertility problems, the frequency of multiple births has increased and would no longer be expected to occur randomly in some highincome populations Small variations in the probability of twins are observed according to the mother’s parity and age, but these are neglected here, given the size of the samples later examined 7 If fertility supply is lower than demanded by parents, the arrival of twins may increase welfare 8 If we could ignore the welfare loss associated with the fertility shock (i e , the income effect), the sign of the cross-effect of the genetic fertility variation on the other forms of family behavior would signal whether the other form of behavior was a substitute (negative) or complement (positive) for children in the parents’ utility function This implication of random rationing of the provision of a household good (children), regardless of the demand for that good, was analyzed by Tobin and Houthakker (1950–1951), and applied by Rosenzweig and Wolpin (1980) Their study confirmed that the birth of twins led Indian rural families to retrench on the schooling of their children, suggesting that numbers of children and their schooling are substitutes, neglecting the income loss associated with unanticipated twins 9 It would be preferable to consult a pregnancy roster for each older woman who has completed her childbearing, and analyze the number of children she has ever borne and the number of twins she has had over her entire reproductive lifetime Unfortunately, the Kenyan surveys did not collect this information, and our calculations are based on the number of surviving children of the woman enumerated as members of her household The ages of women analyzed are restricted to between twenty-five and forty-four to minimize the likelihood that some of their children would have left the household Control variables for age and age squared of the mother and father are included to reduce the problems of younger women not having completed their childbearing In 1994 is it possible to compare these survey enumerated measures of surviving children with the responses of women to the question of how many live children they have ever borne and how many have died Within the sample of women ages twenty-five to forty-four, the observed and everborne measures of fertility are correlated at 97 or higher A second measurement problem arises from the nonuniform distribution of the probability of the birth of twins, which is concentrated at points such as 0, 50, 33, 25, 20, 16, 66, and 40 We use a transformation called a polyfraction exponential approximation to smooth this distribution and avoid statistical bias due to its nonsymmetric form If we had a sufficiently large sample and the full roster of each woman’s pregnancy history, we could have focused only on the effect of twins-on-first-parity, which is a better measure because it includes all women with at least one child, each one time (Olsen 1980 Royston and Altman 1994) 10 The first study I',\n",
       "  'respectively 13 The purpose of distinguishing between the random event of a birth of twins and other sources of behaviorally influenced fertility variation is to show that the supply and demand components of fertility are related differently to one widely used measure of child welfare, W/H The estimated overall association of fertility to W/H is negative, but a small fraction of that associated with the random supply shock of twins Evidently, the distinction between the behavioral demand and random genetic supply variation in fertility is critical If we want to assess the impact of how a population policy is likely to affect the health and nutritional welfare of a woman’s children, or her household’s consumption, it is important to understand the source of the change in fertility A national family-planning program that reduced the effective cost of birth control sufficiently to reduce the average number of births among Kenyan women by 1 would, according to these estimates, raise the W/H of the next generation of Kenyan children by 1 to 2 standard deviation, and increase overall consumption opportunities per adult in the average Kenyan household CONCLUSIONS Forecasting the consequences of economic development on Kenyan fertility is complicated First, one must know the sources of that economic growth If growth is achieved by increasing the income returns from land, for example, it is likely that Kenyan fertility will remain high, perhaps because parents view land and the labor of children as complementary factors in their meager production If economic growth is stimulated by extending additional education to women, the resulting relative rise in the price of children will favor a continuing decline in fertility, as observed in many studies within a low-income country and estimated across countries and over time (P Schultz 1994, 1997) Most parents benefit from an improvement in birth control that allows them to avoid unwanted births at less cost Analogously, a policy that could miraculously reduce the incidence of twins not only would reduce fertility but also might raise family income, as measured in Kenya by consumption per adult, and improve child nutrition and health status, as measured by W/H, which in turn should enhance the child’s productivity as an adult However, a policy that reduces the level of fertility by constraining parents’ demands for children, such as by implementing quantitative restrictions and tax penalties for out-of-plan births, as in China, may not advance family welfare, and could diminish it Fertility and income are caused by many factors To account for the impact of fertility on society, it is useful to distinguish between genetically determined variation in the supply of births that is more or less random, and behavioral variation in the demand for births that is coordinated with many other choices parents make over their lifetimes In the case of economic development and the growth in income, social scientists should distinguish among the various sources of modern economic growth that do not appear to have the same effects on fertility In particular, income that flows from the human capital of the mother and father, and income that flows',\n",
       "  'of children relative to other goods, and may in some settings raise the value of child labor to the parents, and is generally associated with higher fertility (P Schultz 1981, 1994) 3 Increasing the returns from goods and services that are substitutes for children, such as the human capital of their children (quality), old-age pensions, health care of the elderly, and improved intergenerational capital markets, is expected to reduce fertility (Becker 1981) 4 Improving birth-control techniques reduces pecuniary and psychic costs of effective control This fourth factor reduces fertility and uncertainty regarding the timing of births, and thereby assists women in planning their families, careers, and vocational training (Gertler and Molyneaux 1994 P Schultz 1997) 5 As the levels of women’s labor productivity and wages relative to men’s increase, the opportunity costs of having children increase, thus strengthening women’s influence over family resources and raising the share of household expenditures allocated to each child (Becker 1981 P Schultz 1985, 2001) Empirical counterparts for these theoretical price, income, technology, environment, and policy constraints, which are expected to influence lifetime fertility, have been imperfectly measured in many settings in both industrially advanced and low-income countries They are found, in combination, to explain much of the variation in fertility, thus increasing our confidence that the household demand approach to fertility determinants offers a promising explanation for the fertility differences across a society or over time (P Schultz 1994) The key empirical regularity is that where the productivity or schooling of women increases relative to men, fertility is likely to fall, especially if the most productive activities open to women are outside the home and thus cannot be readily combined with her traditional child care activities Empirical studies are largely engaged in accounting for fertility differences across women in a single society, though some studies deal with populations at all stages of economic development or with subregions of a specific country over time (e g , P Schultz 1985) MEASURING THE HOUSEHOLD CONNECTIONS BETWEEN FERTILITY AND INCOME IN KENYA Sub-Saharan Africa is the last region of the world to benefit fully from health advances that have reduced child mortality from more than 20% to less than a few percent Kenya is one of the first African countries in which fertility has declined markedly, starting probably in the early 1980s (Brass and Jolly 1993) While comprehensive economic and demographic household surveys from Africa that permit an examination of the relationships between fertility and family income are rare, the Kenyan Welfare Monitoring Surveys II and III, conducted in 1994 and 1997, allow exploration of some of the issues discussed above (P Schultz and Mwabu 2003) The fraction of a woman’s completed pregnancies (parities) that resulted in a multiple birth is one supply variable that should vary independently of family preferences and choices 9 The effect of this “per pregnancy probability of having twins” on the woman’s total number of births will be positive, but presumably less than 1 10 The association between one additional birth when twins are born and family income expresses the impact expected from a',\n",
       "  'aftermath of World War II, age-specific mortality rates declined, and population growth consequently increased in most low-income countries Some observers expected economic pressures to reduce fertility in these low-income countries because of the rising costs of children in urban settings, and the individualistic desires of parents to promote the health and education of their children (Notestein 1945) The more common reaction to this “population explosion” followed the reasoning of Malthus ([1789] 1993), who expected fertility to remain at relatively high levels and rapid population growth to stifle improvements in the standard of living The continuing decline in infant and child mortality in the 1960s caused the proportion of children in these low-income populations to increase This rise in the dependency ratio (the ratio of the young and old to those in the prime working ages of fifteen to sixty-five) was expected to depress the rate of private and public savings, curb investment in physical capital, and thereby slow economic development, unless new policies were able to bribe or coerce parents to curb their fertility (Coale and Hoover 1958 Enke 1960 Erhlich 1968) After a half-century, the empirical record shows crude period birthrates have declined rapidly in most parts of the low-income world, starting in the 1960s, and eventually the number of children born per woman has fallen by at least half in most countries Sub-Saharan Africa entered only in the last decade or two into its phase of sharply declining child mortality and the beginning of its fertility transition (National Research Council 2000) Total fertility rates for several regions of the world are plotted in Figure 9 2 from 1950–1955 through the median variant of the United Nations projections for 2000–2005 to illustrate these trends in fertility by region (United Nations 2003, vol 1) Figure 9 2 Total Fertility Rates by Region AGGREGATE POPULATION GROWTH AND DEVELOPMENT This essay focuses only on the relationship between fertility and welfare at the individual family level, and does not deal with the difficult-to-measure indirect spillovers from fertility at the societal level In other words, if having an additional birth affects the economic well-being of others than the parents or their children, these spillovers are not considered in this essay I think it is fair to say there is no consensus on how to assess the magnitude or even determine the direction of these spillover effects of fertility and population growth on social welfare One recent review of the evidence concluded that population growth in excess of 2% per year might constitute a significant handicap limiting economic development in an impoverished country with a weak government (National Research Council 1986) By about 1990 there appears to be a negative correlation between a country’s rate of population growth and rate of economic growth in per capita income (Kelley and Schmidt 1994), but this regularity was less evident in the 1960s, 1970s, and 1980s Simon Kuznets (1967) has noted, as did the classical economists, that early periods of rapid population growth are often periods when per capita economic growth is above average (Smith [1776] 1961 Malthus [1789] 1993)'],\n",
       " 'score': [0.11684163839281207,\n",
       "  0.11446747923212273,\n",
       "  0.10327522477541763,\n",
       "  0.098820848064508,\n",
       "  0.09736096446583034,\n",
       "  0.09668141344758721,\n",
       "  0.09659643459295843,\n",
       "  0.09458272429943805,\n",
       "  0.09233760191285012,\n",
       "  0.08903567081647534],\n",
       " 'chunk_id': [332, 344, 335, 336, 355, 340, 343, 341, 338, 334],\n",
       " 'file_id': ['a561b4453167660e3d459b0b74eac5c447aa879f',\n",
       "  'a561b4453167660e3d459b0b74eac5c447aa879f',\n",
       "  'a561b4453167660e3d459b0b74eac5c447aa879f',\n",
       "  'a561b4453167660e3d459b0b74eac5c447aa879f',\n",
       "  'a561b4453167660e3d459b0b74eac5c447aa879f',\n",
       "  'a561b4453167660e3d459b0b74eac5c447aa879f',\n",
       "  'a561b4453167660e3d459b0b74eac5c447aa879f',\n",
       "  'a561b4453167660e3d459b0b74eac5c447aa879f',\n",
       "  'a561b4453167660e3d459b0b74eac5c447aa879f',\n",
       "  'a561b4453167660e3d459b0b74eac5c447aa879f'],\n",
       " 'file_properties': [{'filepath': 'C:\\\\Users\\\\sevan\\\\Documents\\\\GitHub\\\\super-search\\\\data\\\\tests\\\\Banerjee et al. (2006) - Understanding Poverty.pdf',\n",
       "   'last_modified': '2025-07-11 14:04:53',\n",
       "   'file_size': 3,\n",
       "   'date_added': '2025-10-12 19:45:57'},\n",
       "  {'filepath': 'C:\\\\Users\\\\sevan\\\\Documents\\\\GitHub\\\\super-search\\\\data\\\\tests\\\\Banerjee et al. (2006) - Understanding Poverty.pdf',\n",
       "   'last_modified': '2025-07-11 14:04:53',\n",
       "   'file_size': 3,\n",
       "   'date_added': '2025-10-12 19:45:57'},\n",
       "  {'filepath': 'C:\\\\Users\\\\sevan\\\\Documents\\\\GitHub\\\\super-search\\\\data\\\\tests\\\\Banerjee et al. (2006) - Understanding Poverty.pdf',\n",
       "   'last_modified': '2025-07-11 14:04:53',\n",
       "   'file_size': 3,\n",
       "   'date_added': '2025-10-12 19:45:57'},\n",
       "  {'filepath': 'C:\\\\Users\\\\sevan\\\\Documents\\\\GitHub\\\\super-search\\\\data\\\\tests\\\\Banerjee et al. (2006) - Understanding Poverty.pdf',\n",
       "   'last_modified': '2025-07-11 14:04:53',\n",
       "   'file_size': 3,\n",
       "   'date_added': '2025-10-12 19:45:57'},\n",
       "  {'filepath': 'C:\\\\Users\\\\sevan\\\\Documents\\\\GitHub\\\\super-search\\\\data\\\\tests\\\\Banerjee et al. (2006) - Understanding Poverty.pdf',\n",
       "   'last_modified': '2025-07-11 14:04:53',\n",
       "   'file_size': 3,\n",
       "   'date_added': '2025-10-12 19:45:57'},\n",
       "  {'filepath': 'C:\\\\Users\\\\sevan\\\\Documents\\\\GitHub\\\\super-search\\\\data\\\\tests\\\\Banerjee et al. (2006) - Understanding Poverty.pdf',\n",
       "   'last_modified': '2025-07-11 14:04:53',\n",
       "   'file_size': 3,\n",
       "   'date_added': '2025-10-12 19:45:57'},\n",
       "  {'filepath': 'C:\\\\Users\\\\sevan\\\\Documents\\\\GitHub\\\\super-search\\\\data\\\\tests\\\\Banerjee et al. (2006) - Understanding Poverty.pdf',\n",
       "   'last_modified': '2025-07-11 14:04:53',\n",
       "   'file_size': 3,\n",
       "   'date_added': '2025-10-12 19:45:57'},\n",
       "  {'filepath': 'C:\\\\Users\\\\sevan\\\\Documents\\\\GitHub\\\\super-search\\\\data\\\\tests\\\\Banerjee et al. (2006) - Understanding Poverty.pdf',\n",
       "   'last_modified': '2025-07-11 14:04:53',\n",
       "   'file_size': 3,\n",
       "   'date_added': '2025-10-12 19:45:57'},\n",
       "  {'filepath': 'C:\\\\Users\\\\sevan\\\\Documents\\\\GitHub\\\\super-search\\\\data\\\\tests\\\\Banerjee et al. (2006) - Understanding Poverty.pdf',\n",
       "   'last_modified': '2025-07-11 14:04:53',\n",
       "   'file_size': 3,\n",
       "   'date_added': '2025-10-12 19:45:57'},\n",
       "  {'filepath': 'C:\\\\Users\\\\sevan\\\\Documents\\\\GitHub\\\\super-search\\\\data\\\\tests\\\\Banerjee et al. (2006) - Understanding Poverty.pdf',\n",
       "   'last_modified': '2025-07-11 14:04:53',\n",
       "   'file_size': 3,\n",
       "   'date_added': '2025-10-12 19:45:57'}]}"
      ]
     },
     "execution_count": 9,
     "metadata": {},
     "output_type": "execute_result"
    }
   ],
   "source": [
    "text = \"statistical survey census\"\n",
    "results = query_nn(\n",
    "    query = text,\n",
    "    index=index,\n",
    "    num_results=10)\n",
    "convert_results(results, chunks, file_dict)"
   ]
  },
  {
   "cell_type": "code",
   "execution_count": 27,
   "id": "b8cee17e",
   "metadata": {},
   "outputs": [
    {
     "data": {
      "text/plain": [
       "[690, 691, 672, 675, 123, 138, 119, 679, 682, 671]"
      ]
     },
     "execution_count": 27,
     "metadata": {},
     "output_type": "execute_result"
    }
   ],
   "source": [
    "id.flatten().tolist()"
   ]
  },
  {
   "cell_type": "code",
   "execution_count": 28,
   "id": "ca1b83f4",
   "metadata": {},
   "outputs": [
    {
     "data": {
      "text/plain": [
       "[0.5058096311741214,\n",
       " 0.5680897861599566,\n",
       " 0.5715536362544563,\n",
       " 0.5735340192419569,\n",
       " 0.5790967458512362,\n",
       " 0.5913690761615871,\n",
       " 0.5934014194036765,\n",
       " 0.596208029745475,\n",
       " 0.6031898827915328,\n",
       " 0.6118344018902016]"
      ]
     },
     "execution_count": 28,
     "metadata": {},
     "output_type": "execute_result"
    }
   ],
   "source": [
    "score.flatten().tolist()"
   ]
  }
 ],
 "metadata": {
  "kernelspec": {
   "display_name": ".venv",
   "language": "python",
   "name": "python3"
  },
  "language_info": {
   "codemirror_mode": {
    "name": "ipython",
    "version": 3
   },
   "file_extension": ".py",
   "mimetype": "text/x-python",
   "name": "python",
   "nbconvert_exporter": "python",
   "pygments_lexer": "ipython3",
   "version": "3.12.10"
  }
 },
 "nbformat": 4,
 "nbformat_minor": 5
}
