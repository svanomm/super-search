{
 "cells": [
  {
   "cell_type": "code",
   "execution_count": 1,
   "id": "c6bc5681",
   "metadata": {},
   "outputs": [
    {
     "name": "stdout",
     "output_type": "stream",
     "text": [
      "resource module not available on Windows\n"
     ]
    },
    {
     "name": "stderr",
     "output_type": "stream",
     "text": [
      "c:\\Users\\sevan\\Documents\\GitHub\\super-search\\.venv\\Lib\\site-packages\\tqdm\\auto.py:21: TqdmWarning: IProgress not found. Please update jupyter and ipywidgets. See https://ipywidgets.readthedocs.io/en/stable/user_install.html\n",
      "  from .autonotebook import tqdm as notebook_tqdm\n",
      "INFO:2025-10-12 14:11:02,728:jax._src.xla_bridge:752: Unable to initialize backend 'tpu': UNIMPLEMENTED: LoadPjrtPlugin is not implemented on windows yet.\n",
      "INFO: Unable to initialize backend 'tpu': UNIMPLEMENTED: LoadPjrtPlugin is not implemented on windows yet.\n"
     ]
    }
   ],
   "source": [
    "from file_scanner import file_scanner\n",
    "from chunk_db import chunk_db\n",
    "from create_bm25_index import create_bm25_index\n",
    "from query_bm25 import query_bm25"
   ]
  },
  {
   "cell_type": "code",
   "execution_count": 2,
   "id": "f320096e",
   "metadata": {},
   "outputs": [],
   "source": [
    "repo = r\"C:\\Users\\sevan\\Documents\\GitHub\\super-search\\data\\tests\""
   ]
  },
  {
   "cell_type": "code",
   "execution_count": 3,
   "id": "2782c59b",
   "metadata": {},
   "outputs": [
    {
     "name": "stderr",
     "output_type": "stream",
     "text": [
      "INFO: Searching for files in C:\\Users\\sevan\\Documents\\GitHub\\super-search\\data\\tests with allowed types: ['.pdf', '.txt', '.r', '.do', '.py', '.ipynb', '.sas', '.sql', '.vba', '.md']\n",
      "INFO: Done scanning.\n",
      "INFO: File list saved to file_list.json with 31 files.\n"
     ]
    }
   ],
   "source": [
    "files = file_scanner(repo)"
   ]
  },
  {
   "cell_type": "code",
   "execution_count": 4,
   "id": "237ded51",
   "metadata": {},
   "outputs": [
    {
     "name": "stderr",
     "output_type": "stream",
     "text": [
      "INFO: Successfully loaded existing file list.\n",
      "INFO: Processing 31 files for chunking...\n",
      "INFO: Processing file 1/31: C:\\Users\\sevan\\Documents\\GitHub\\super-search\\data\\tests\\32165.pdf\n",
      "Extracting text from PDF: 100%|██████████| 29/29 [00:00<00:00, 231.36it/s]\n",
      "INFO: Processing file 2/31: C:\\Users\\sevan\\Documents\\GitHub\\super-search\\data\\tests\\32189.pdf\n",
      "Extracting text from PDF: 100%|██████████| 30/30 [00:00<00:00, 523.47it/s]\n",
      "INFO: Processing file 3/31: C:\\Users\\sevan\\Documents\\GitHub\\super-search\\data\\tests\\32267.pdf\n",
      "Extracting text from PDF: 100%|██████████| 45/45 [00:00<00:00, 595.75it/s]\n",
      "INFO: Processing file 4/31: C:\\Users\\sevan\\Documents\\GitHub\\super-search\\data\\tests\\32286.pdf\n",
      "Extracting text from PDF: 100%|██████████| 60/60 [00:00<00:00, 667.42it/s]\n",
      "INFO: Processing file 5/31: C:\\Users\\sevan\\Documents\\GitHub\\super-search\\data\\tests\\Acemoglu et al. (QJE 2002) - Reversal of Fortune - Geography and Institutions in the Making of the Modern World Income.pdf\n",
      "Extracting text from PDF: 100%|██████████| 65/65 [00:00<00:00, 677.64it/s]\n",
      "INFO: Processing file 6/31: C:\\Users\\sevan\\Documents\\GitHub\\super-search\\data\\tests\\Banerjee and Duflo (JEP 2007) The Economic Lives of the Poor.pdf\n",
      "Extracting text from PDF: 100%|██████████| 27/27 [00:00<00:00, 361.62it/s]\n",
      "INFO: Processing file 7/31: C:\\Users\\sevan\\Documents\\GitHub\\super-search\\data\\tests\\Banerjee et al. (2006) - Understanding Poverty.pdf\n",
      "Extracting text from PDF: 100%|██████████| 456/456 [00:00<00:00, 576.06it/s]\n",
      "INFO: Processing file 8/31: C:\\Users\\sevan\\Documents\\GitHub\\super-search\\data\\tests\\Besley and Burgess (JEP 2003) - Halving Global Poverty.pdf\n",
      "Extracting text from PDF: 100%|██████████| 20/20 [00:00<00:00, 571.65it/s]\n",
      "INFO: Processing file 9/31: C:\\Users\\sevan\\Documents\\GitHub\\super-search\\data\\tests\\Bleakley (AEJ 2010) - Malaria Eradication in the Americas - A Retrospective.pdf\n",
      "Extracting text from PDF: 100%|██████████| 45/45 [00:00<00:00, 396.83it/s]\n",
      "INFO: Processing file 10/31: C:\\Users\\sevan\\Documents\\GitHub\\super-search\\data\\tests\\Dell et al. (AEJ 2012) - Temperature Shocks and Economic Growth - Evidence from the Last Half Century.pdf\n",
      "Extracting text from PDF: 100%|██████████| 30/30 [00:00<00:00, 669.06it/s]\n",
      "INFO: Processing file 11/31: C:\\Users\\sevan\\Documents\\GitHub\\super-search\\data\\tests\\Duflo (AER 2001) - Schooling and Labor Market Consequences of School Construction in Indonesia.pdf\n",
      "Extracting text from PDF: 100%|██████████| 19/19 [00:00<00:00, 782.22it/s]\n",
      "INFO: Processing file 12/31: C:\\Users\\sevan\\Documents\\GitHub\\super-search\\data\\tests\\Duflo and Kremer (2003) - Use of Randomization in the Evaluation of Development Effectiveness.pdf\n",
      "Extracting text from PDF: 100%|██████████| 37/37 [00:00<00:00, 961.65it/s]\n",
      "INFO: Processing file 13/31: C:\\Users\\sevan\\Documents\\GitHub\\super-search\\data\\tests\\Hall and Jones (QJE 1999) Why Do Some Countries Produce So Much More Output Per Worker Than Others Copy.pdf\n",
      "Extracting text from PDF: 100%|██████████| 35/35 [00:00<00:00, 641.73it/s]\n",
      "INFO: Processing file 14/31: C:\\Users\\sevan\\Documents\\GitHub\\super-search\\data\\tests\\Hall and Jones (QJE 1999) Why Do Some Countries Produce So Much More Output Per Worker Than Others.pdf\n",
      "Extracting text from PDF: 100%|██████████| 35/35 [00:00<00:00, 724.11it/s]\n",
      "INFO: Processing file 15/31: C:\\Users\\sevan\\Documents\\GitHub\\super-search\\data\\tests\\Hanna and Olken (JEP 2018) - Universal Basic Incomes versus Targeted Transfers.pdf\n",
      "Extracting text from PDF: 100%|██████████| 26/26 [00:00<00:00, 514.56it/s]\n",
      "INFO: Processing file 16/31: C:\\Users\\sevan\\Documents\\GitHub\\super-search\\data\\tests\\Miguel and Kremer (Econometrica 2004) - Worms - Identifying Impacts on Education and Health in the Presence of Treatment.pdf\n",
      "Extracting text from PDF: 100%|██████████| 60/60 [00:00<00:00, 611.96it/s]\n",
      "INFO: Processing file 17/31: C:\\Users\\sevan\\Documents\\GitHub\\super-search\\data\\tests\\Nunn (QJE 2008) - The Long-term Effects of Africa's Slave Trades.pdf\n",
      "Extracting text from PDF: 100%|██████████| 38/38 [00:00<00:00, 868.34it/s]\n",
      "INFO: Processing file 18/31: C:\\Users\\sevan\\Documents\\GitHub\\super-search\\data\\tests\\Page and Pande (JEP 2018) - Ending Global Poverty - Why Money Isn’t Enough.pdf\n",
      "Extracting text from PDF: 100%|██████████| 28/28 [00:00<00:00, 576.73it/s]\n",
      "INFO: Processing file 19/31: C:\\Users\\sevan\\Documents\\GitHub\\super-search\\data\\tests\\Pages from Ch3-TodaroSmith.pdf\n",
      "Extracting text from PDF: 100%|██████████| 46/46 [00:00<00:00, 788.99it/s]\n",
      "INFO: Processing file 20/31: C:\\Users\\sevan\\Documents\\GitHub\\super-search\\data\\tests\\Pages from Ch4-TodaroSmith.pdf\n",
      "Extracting text from PDF: 100%|██████████| 51/51 [00:00<00:00, 582.79it/s]\n",
      "INFO: Processing file 21/31: C:\\Users\\sevan\\Documents\\GitHub\\super-search\\data\\tests\\Ravallion (2005) - Inequality is Bad for the Poor.pdf\n",
      "Extracting text from PDF: 100%|██████████| 50/50 [00:00<00:00, 1299.29it/s]\n",
      "INFO: Processing file 22/31: C:\\Users\\sevan\\Documents\\GitHub\\super-search\\data\\tests\\README.md\n",
      "INFO: Processing file 23/31: C:\\Users\\sevan\\Documents\\GitHub\\super-search\\data\\tests\\requirements.txt\n",
      "INFO: Processing file 24/31: C:\\Users\\sevan\\Documents\\GitHub\\super-search\\data\\tests\\test file.do\n",
      "INFO: Processing file 25/31: C:\\Users\\sevan\\Documents\\GitHub\\super-search\\data\\tests\\test file.txt\n",
      "INFO: Processing file 26/31: C:\\Users\\sevan\\Documents\\GitHub\\super-search\\data\\tests\\Lecture Notes\\Lec1-BC-1.pdf\n",
      "Extracting text from PDF: 100%|██████████| 11/11 [00:00<00:00, 1432.66it/s]\n",
      "INFO: Processing file 27/31: C:\\Users\\sevan\\Documents\\GitHub\\super-search\\data\\tests\\Lecture Notes\\Lec1.2-BigPicture.pdf\n",
      "Extracting text from PDF: 100%|██████████| 24/24 [00:00<00:00, 1535.18it/s]\n",
      "INFO: Processing file 28/31: C:\\Users\\sevan\\Documents\\GitHub\\super-search\\data\\tests\\Lecture Notes\\Lec2.1-Inequality.pdf\n",
      "Extracting text from PDF: 100%|██████████| 21/21 [00:00<00:00, 918.98it/s]\n",
      "INFO: Processing file 29/31: C:\\Users\\sevan\\Documents\\GitHub\\super-search\\data\\tests\\Lecture Notes\\Lec2.2-Inequality.pdf\n",
      "Extracting text from PDF: 100%|██████████| 24/24 [00:00<00:00, 2207.04it/s]\n",
      "INFO: Processing file 30/31: C:\\Users\\sevan\\Documents\\GitHub\\super-search\\data\\tests\\Lecture Notes\\Lec3.1-Growth Theories.pdf\n",
      "Extracting text from PDF: 100%|██████████| 46/46 [00:00<00:00, 1589.77it/s]\n",
      "INFO: Processing file 31/31: C:\\Users\\sevan\\Documents\\GitHub\\super-search\\data\\tests\\Lecture Notes\\Lec3.2-Growth Theories.pdf\n",
      "Extracting text from PDF: 100%|██████████| 31/31 [00:00<00:00, 1549.10it/s]\n",
      "INFO: Done processing files.\n",
      "INFO: Creating chunk IDs...\n",
      "INFO: Saving chunk database to file...\n",
      "INFO: Processed 1129 chunks from 31 files.\n",
      "INFO: Data saved to ./chunked_db.json\n"
     ]
    }
   ],
   "source": [
    "chunks = chunk_db(file_list=files)"
   ]
  },
  {
   "cell_type": "code",
   "execution_count": 5,
   "id": "bfef14b8",
   "metadata": {},
   "outputs": [
    {
     "name": "stderr",
     "output_type": "stream",
     "text": [
      "Split strings:   0%|          | 0/1129 [00:00<?, ?it/s]"
     ]
    },
    {
     "name": "stderr",
     "output_type": "stream",
     "text": [
      "INFO: Creating BM25 index...                                       \n",
      "Indexing corpus:   0%|          | 0/1 [00:00<?, ?step/s]DEBUG: Building index from IDs objects\n",
      "Indexing corpus: 100%|██████████| 1/1 [00:00<00:00,  1.19step/s]\n",
      "INFO: Saving the BM25 index...\n"
     ]
    }
   ],
   "source": [
    "retriever = create_bm25_index(chunks=chunks)"
   ]
  },
  {
   "cell_type": "code",
   "execution_count": 11,
   "id": "5546cbc2",
   "metadata": {},
   "outputs": [
    {
     "name": "stderr",
     "output_type": "stream",
     "text": [
      "                                                     \r"
     ]
    },
    {
     "data": {
      "text/plain": [
       "{'id': [675, 690, 1117, 691, 682, 332, 50, 397, 756, 786],\n",
       " 'score': [3.145944595336914,\n",
       "  3.082058906555176,\n",
       "  2.802300453186035,\n",
       "  2.6976418495178223,\n",
       "  2.4689383506774902,\n",
       "  2.3490264415740967,\n",
       "  2.3455615043640137,\n",
       "  2.1909472942352295,\n",
       "  2.1624672412872314,\n",
       "  2.1596598625183105]}"
      ]
     },
     "execution_count": 11,
     "metadata": {},
     "output_type": "execute_result"
    }
   ],
   "source": [
    "text = \"linear regression\"\n",
    "results = query_bm25(\n",
    "    query = text,\n",
    "    retriever=retriever,\n",
    "    num_results=10)\n",
    "results"
   ]
  }
 ],
 "metadata": {
  "kernelspec": {
   "display_name": ".venv",
   "language": "python",
   "name": "python3"
  },
  "language_info": {
   "codemirror_mode": {
    "name": "ipython",
    "version": 3
   },
   "file_extension": ".py",
   "mimetype": "text/x-python",
   "name": "python",
   "nbconvert_exporter": "python",
   "pygments_lexer": "ipython3",
   "version": "3.12.10"
  }
 },
 "nbformat": 4,
 "nbformat_minor": 5
}
