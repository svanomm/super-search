{
 "cells": [
  {
   "cell_type": "code",
   "execution_count": 5,
   "id": "d65ff4ed",
   "metadata": {},
   "outputs": [],
   "source": [
    "from utils import *\n",
    "from queries import *\n",
    "from indexes import *\n",
    "import timeit"
   ]
  },
  {
   "cell_type": "code",
   "execution_count": 2,
   "id": "c32a9eb0",
   "metadata": {},
   "outputs": [],
   "source": [
    "with open(r\"C:\\Users\\Steven\\Documents\\Python\\super-search\\chunked_db.json\", \"r\", encoding=\"utf-8\") as f:\n",
    "    chunks = json.load(f)"
   ]
  },
  {
   "cell_type": "code",
   "execution_count": 2,
   "id": "3471d5d6",
   "metadata": {},
   "outputs": [],
   "source": [
    "text = \"Current Population Survey (CPS)\""
   ]
  },
  {
   "cell_type": "code",
   "execution_count": null,
   "id": "f2e216c1",
   "metadata": {},
   "outputs": [],
   "source": [
    "def g():\n",
    "    results_direct = query_direct(\n",
    "        query = text,\n",
    "        chunks=chunks,\n",
    "        num_results=20)\n",
    "\n",
    "results_direct = timeit.timeit(g, number=100)"
   ]
  },
  {
   "cell_type": "code",
   "execution_count": 4,
   "id": "dd75a41f",
   "metadata": {},
   "outputs": [
    {
     "data": {
      "text/plain": [
       "60.28549640002893"
      ]
     },
     "execution_count": 4,
     "metadata": {},
     "output_type": "execute_result"
    }
   ],
   "source": [
    "results_direct"
   ]
  },
  {
   "cell_type": "code",
   "execution_count": 3,
   "id": "1e9482af",
   "metadata": {},
   "outputs": [
    {
     "name": "stdout",
     "output_type": "stream",
     "text": [
      "Mon Oct 13 13:06:54 2025 Building and compiling search function\n"
     ]
    }
   ],
   "source": [
    "index = pickle.load(open(r\"C:\\Users\\Steven\\Documents\\Python\\super-search\\nn_database.pkl\", 'rb'))"
   ]
  },
  {
   "cell_type": "code",
   "execution_count": 6,
   "id": "408e7c7c",
   "metadata": {},
   "outputs": [
    {
     "name": "stderr",
     "output_type": "stream",
     "text": [
      "INFO: Found cached model at C:\\Users\\Steven\\.cache\\huggingface\\hub\\models--minishlab--potion-retrieval-32M\\snapshots\\3c52220caac03b85ca0730a4cdbbe77b92db0a39, loading from cache.\n",
      "INFO: Found cached model at C:\\Users\\Steven\\.cache\\huggingface\\hub\\models--minishlab--potion-retrieval-32M\\snapshots\\3c52220caac03b85ca0730a4cdbbe77b92db0a39, loading from cache.\n",
      "INFO: Found cached model at C:\\Users\\Steven\\.cache\\huggingface\\hub\\models--minishlab--potion-retrieval-32M\\snapshots\\3c52220caac03b85ca0730a4cdbbe77b92db0a39, loading from cache.\n",
      "INFO: Found cached model at C:\\Users\\Steven\\.cache\\huggingface\\hub\\models--minishlab--potion-retrieval-32M\\snapshots\\3c52220caac03b85ca0730a4cdbbe77b92db0a39, loading from cache.\n",
      "INFO: Found cached model at C:\\Users\\Steven\\.cache\\huggingface\\hub\\models--minishlab--potion-retrieval-32M\\snapshots\\3c52220caac03b85ca0730a4cdbbe77b92db0a39, loading from cache.\n",
      "INFO: Found cached model at C:\\Users\\Steven\\.cache\\huggingface\\hub\\models--minishlab--potion-retrieval-32M\\snapshots\\3c52220caac03b85ca0730a4cdbbe77b92db0a39, loading from cache.\n",
      "INFO: Found cached model at C:\\Users\\Steven\\.cache\\huggingface\\hub\\models--minishlab--potion-retrieval-32M\\snapshots\\3c52220caac03b85ca0730a4cdbbe77b92db0a39, loading from cache.\n",
      "INFO: Found cached model at C:\\Users\\Steven\\.cache\\huggingface\\hub\\models--minishlab--potion-retrieval-32M\\snapshots\\3c52220caac03b85ca0730a4cdbbe77b92db0a39, loading from cache.\n",
      "INFO: Found cached model at C:\\Users\\Steven\\.cache\\huggingface\\hub\\models--minishlab--potion-retrieval-32M\\snapshots\\3c52220caac03b85ca0730a4cdbbe77b92db0a39, loading from cache.\n",
      "INFO: Found cached model at C:\\Users\\Steven\\.cache\\huggingface\\hub\\models--minishlab--potion-retrieval-32M\\snapshots\\3c52220caac03b85ca0730a4cdbbe77b92db0a39, loading from cache.\n",
      "INFO: Found cached model at C:\\Users\\Steven\\.cache\\huggingface\\hub\\models--minishlab--potion-retrieval-32M\\snapshots\\3c52220caac03b85ca0730a4cdbbe77b92db0a39, loading from cache.\n",
      "INFO: Found cached model at C:\\Users\\Steven\\.cache\\huggingface\\hub\\models--minishlab--potion-retrieval-32M\\snapshots\\3c52220caac03b85ca0730a4cdbbe77b92db0a39, loading from cache.\n",
      "INFO: Found cached model at C:\\Users\\Steven\\.cache\\huggingface\\hub\\models--minishlab--potion-retrieval-32M\\snapshots\\3c52220caac03b85ca0730a4cdbbe77b92db0a39, loading from cache.\n",
      "INFO: Found cached model at C:\\Users\\Steven\\.cache\\huggingface\\hub\\models--minishlab--potion-retrieval-32M\\snapshots\\3c52220caac03b85ca0730a4cdbbe77b92db0a39, loading from cache.\n",
      "INFO: Found cached model at C:\\Users\\Steven\\.cache\\huggingface\\hub\\models--minishlab--potion-retrieval-32M\\snapshots\\3c52220caac03b85ca0730a4cdbbe77b92db0a39, loading from cache.\n",
      "INFO: Found cached model at C:\\Users\\Steven\\.cache\\huggingface\\hub\\models--minishlab--potion-retrieval-32M\\snapshots\\3c52220caac03b85ca0730a4cdbbe77b92db0a39, loading from cache.\n",
      "INFO: Found cached model at C:\\Users\\Steven\\.cache\\huggingface\\hub\\models--minishlab--potion-retrieval-32M\\snapshots\\3c52220caac03b85ca0730a4cdbbe77b92db0a39, loading from cache.\n",
      "INFO: Found cached model at C:\\Users\\Steven\\.cache\\huggingface\\hub\\models--minishlab--potion-retrieval-32M\\snapshots\\3c52220caac03b85ca0730a4cdbbe77b92db0a39, loading from cache.\n",
      "INFO: Found cached model at C:\\Users\\Steven\\.cache\\huggingface\\hub\\models--minishlab--potion-retrieval-32M\\snapshots\\3c52220caac03b85ca0730a4cdbbe77b92db0a39, loading from cache.\n",
      "INFO: Found cached model at C:\\Users\\Steven\\.cache\\huggingface\\hub\\models--minishlab--potion-retrieval-32M\\snapshots\\3c52220caac03b85ca0730a4cdbbe77b92db0a39, loading from cache.\n",
      "INFO: Found cached model at C:\\Users\\Steven\\.cache\\huggingface\\hub\\models--minishlab--potion-retrieval-32M\\snapshots\\3c52220caac03b85ca0730a4cdbbe77b92db0a39, loading from cache.\n",
      "INFO: Found cached model at C:\\Users\\Steven\\.cache\\huggingface\\hub\\models--minishlab--potion-retrieval-32M\\snapshots\\3c52220caac03b85ca0730a4cdbbe77b92db0a39, loading from cache.\n",
      "INFO: Found cached model at C:\\Users\\Steven\\.cache\\huggingface\\hub\\models--minishlab--potion-retrieval-32M\\snapshots\\3c52220caac03b85ca0730a4cdbbe77b92db0a39, loading from cache.\n",
      "INFO: Found cached model at C:\\Users\\Steven\\.cache\\huggingface\\hub\\models--minishlab--potion-retrieval-32M\\snapshots\\3c52220caac03b85ca0730a4cdbbe77b92db0a39, loading from cache.\n",
      "INFO: Found cached model at C:\\Users\\Steven\\.cache\\huggingface\\hub\\models--minishlab--potion-retrieval-32M\\snapshots\\3c52220caac03b85ca0730a4cdbbe77b92db0a39, loading from cache.\n",
      "INFO: Found cached model at C:\\Users\\Steven\\.cache\\huggingface\\hub\\models--minishlab--potion-retrieval-32M\\snapshots\\3c52220caac03b85ca0730a4cdbbe77b92db0a39, loading from cache.\n",
      "INFO: Found cached model at C:\\Users\\Steven\\.cache\\huggingface\\hub\\models--minishlab--potion-retrieval-32M\\snapshots\\3c52220caac03b85ca0730a4cdbbe77b92db0a39, loading from cache.\n",
      "INFO: Found cached model at C:\\Users\\Steven\\.cache\\huggingface\\hub\\models--minishlab--potion-retrieval-32M\\snapshots\\3c52220caac03b85ca0730a4cdbbe77b92db0a39, loading from cache.\n",
      "INFO: Found cached model at C:\\Users\\Steven\\.cache\\huggingface\\hub\\models--minishlab--potion-retrieval-32M\\snapshots\\3c52220caac03b85ca0730a4cdbbe77b92db0a39, loading from cache.\n",
      "INFO: Found cached model at C:\\Users\\Steven\\.cache\\huggingface\\hub\\models--minishlab--potion-retrieval-32M\\snapshots\\3c52220caac03b85ca0730a4cdbbe77b92db0a39, loading from cache.\n",
      "INFO: Found cached model at C:\\Users\\Steven\\.cache\\huggingface\\hub\\models--minishlab--potion-retrieval-32M\\snapshots\\3c52220caac03b85ca0730a4cdbbe77b92db0a39, loading from cache.\n",
      "INFO: Found cached model at C:\\Users\\Steven\\.cache\\huggingface\\hub\\models--minishlab--potion-retrieval-32M\\snapshots\\3c52220caac03b85ca0730a4cdbbe77b92db0a39, loading from cache.\n",
      "INFO: Found cached model at C:\\Users\\Steven\\.cache\\huggingface\\hub\\models--minishlab--potion-retrieval-32M\\snapshots\\3c52220caac03b85ca0730a4cdbbe77b92db0a39, loading from cache.\n",
      "INFO: Found cached model at C:\\Users\\Steven\\.cache\\huggingface\\hub\\models--minishlab--potion-retrieval-32M\\snapshots\\3c52220caac03b85ca0730a4cdbbe77b92db0a39, loading from cache.\n",
      "INFO: Found cached model at C:\\Users\\Steven\\.cache\\huggingface\\hub\\models--minishlab--potion-retrieval-32M\\snapshots\\3c52220caac03b85ca0730a4cdbbe77b92db0a39, loading from cache.\n",
      "INFO: Found cached model at C:\\Users\\Steven\\.cache\\huggingface\\hub\\models--minishlab--potion-retrieval-32M\\snapshots\\3c52220caac03b85ca0730a4cdbbe77b92db0a39, loading from cache.\n",
      "INFO: Found cached model at C:\\Users\\Steven\\.cache\\huggingface\\hub\\models--minishlab--potion-retrieval-32M\\snapshots\\3c52220caac03b85ca0730a4cdbbe77b92db0a39, loading from cache.\n",
      "INFO: Found cached model at C:\\Users\\Steven\\.cache\\huggingface\\hub\\models--minishlab--potion-retrieval-32M\\snapshots\\3c52220caac03b85ca0730a4cdbbe77b92db0a39, loading from cache.\n",
      "INFO: Found cached model at C:\\Users\\Steven\\.cache\\huggingface\\hub\\models--minishlab--potion-retrieval-32M\\snapshots\\3c52220caac03b85ca0730a4cdbbe77b92db0a39, loading from cache.\n",
      "INFO: Found cached model at C:\\Users\\Steven\\.cache\\huggingface\\hub\\models--minishlab--potion-retrieval-32M\\snapshots\\3c52220caac03b85ca0730a4cdbbe77b92db0a39, loading from cache.\n",
      "INFO: Found cached model at C:\\Users\\Steven\\.cache\\huggingface\\hub\\models--minishlab--potion-retrieval-32M\\snapshots\\3c52220caac03b85ca0730a4cdbbe77b92db0a39, loading from cache.\n",
      "INFO: Found cached model at C:\\Users\\Steven\\.cache\\huggingface\\hub\\models--minishlab--potion-retrieval-32M\\snapshots\\3c52220caac03b85ca0730a4cdbbe77b92db0a39, loading from cache.\n",
      "INFO: Found cached model at C:\\Users\\Steven\\.cache\\huggingface\\hub\\models--minishlab--potion-retrieval-32M\\snapshots\\3c52220caac03b85ca0730a4cdbbe77b92db0a39, loading from cache.\n",
      "INFO: Found cached model at C:\\Users\\Steven\\.cache\\huggingface\\hub\\models--minishlab--potion-retrieval-32M\\snapshots\\3c52220caac03b85ca0730a4cdbbe77b92db0a39, loading from cache.\n",
      "INFO: Found cached model at C:\\Users\\Steven\\.cache\\huggingface\\hub\\models--minishlab--potion-retrieval-32M\\snapshots\\3c52220caac03b85ca0730a4cdbbe77b92db0a39, loading from cache.\n",
      "INFO: Found cached model at C:\\Users\\Steven\\.cache\\huggingface\\hub\\models--minishlab--potion-retrieval-32M\\snapshots\\3c52220caac03b85ca0730a4cdbbe77b92db0a39, loading from cache.\n",
      "INFO: Found cached model at C:\\Users\\Steven\\.cache\\huggingface\\hub\\models--minishlab--potion-retrieval-32M\\snapshots\\3c52220caac03b85ca0730a4cdbbe77b92db0a39, loading from cache.\n",
      "INFO: Found cached model at C:\\Users\\Steven\\.cache\\huggingface\\hub\\models--minishlab--potion-retrieval-32M\\snapshots\\3c52220caac03b85ca0730a4cdbbe77b92db0a39, loading from cache.\n",
      "INFO: Found cached model at C:\\Users\\Steven\\.cache\\huggingface\\hub\\models--minishlab--potion-retrieval-32M\\snapshots\\3c52220caac03b85ca0730a4cdbbe77b92db0a39, loading from cache.\n",
      "INFO: Found cached model at C:\\Users\\Steven\\.cache\\huggingface\\hub\\models--minishlab--potion-retrieval-32M\\snapshots\\3c52220caac03b85ca0730a4cdbbe77b92db0a39, loading from cache.\n",
      "INFO: Found cached model at C:\\Users\\Steven\\.cache\\huggingface\\hub\\models--minishlab--potion-retrieval-32M\\snapshots\\3c52220caac03b85ca0730a4cdbbe77b92db0a39, loading from cache.\n",
      "INFO: Found cached model at C:\\Users\\Steven\\.cache\\huggingface\\hub\\models--minishlab--potion-retrieval-32M\\snapshots\\3c52220caac03b85ca0730a4cdbbe77b92db0a39, loading from cache.\n",
      "INFO: Found cached model at C:\\Users\\Steven\\.cache\\huggingface\\hub\\models--minishlab--potion-retrieval-32M\\snapshots\\3c52220caac03b85ca0730a4cdbbe77b92db0a39, loading from cache.\n",
      "INFO: Found cached model at C:\\Users\\Steven\\.cache\\huggingface\\hub\\models--minishlab--potion-retrieval-32M\\snapshots\\3c52220caac03b85ca0730a4cdbbe77b92db0a39, loading from cache.\n",
      "INFO: Found cached model at C:\\Users\\Steven\\.cache\\huggingface\\hub\\models--minishlab--potion-retrieval-32M\\snapshots\\3c52220caac03b85ca0730a4cdbbe77b92db0a39, loading from cache.\n",
      "INFO: Found cached model at C:\\Users\\Steven\\.cache\\huggingface\\hub\\models--minishlab--potion-retrieval-32M\\snapshots\\3c52220caac03b85ca0730a4cdbbe77b92db0a39, loading from cache.\n",
      "INFO: Found cached model at C:\\Users\\Steven\\.cache\\huggingface\\hub\\models--minishlab--potion-retrieval-32M\\snapshots\\3c52220caac03b85ca0730a4cdbbe77b92db0a39, loading from cache.\n",
      "INFO: Found cached model at C:\\Users\\Steven\\.cache\\huggingface\\hub\\models--minishlab--potion-retrieval-32M\\snapshots\\3c52220caac03b85ca0730a4cdbbe77b92db0a39, loading from cache.\n",
      "INFO: Found cached model at C:\\Users\\Steven\\.cache\\huggingface\\hub\\models--minishlab--potion-retrieval-32M\\snapshots\\3c52220caac03b85ca0730a4cdbbe77b92db0a39, loading from cache.\n",
      "INFO: Found cached model at C:\\Users\\Steven\\.cache\\huggingface\\hub\\models--minishlab--potion-retrieval-32M\\snapshots\\3c52220caac03b85ca0730a4cdbbe77b92db0a39, loading from cache.\n",
      "INFO: Found cached model at C:\\Users\\Steven\\.cache\\huggingface\\hub\\models--minishlab--potion-retrieval-32M\\snapshots\\3c52220caac03b85ca0730a4cdbbe77b92db0a39, loading from cache.\n",
      "INFO: Found cached model at C:\\Users\\Steven\\.cache\\huggingface\\hub\\models--minishlab--potion-retrieval-32M\\snapshots\\3c52220caac03b85ca0730a4cdbbe77b92db0a39, loading from cache.\n",
      "INFO: Found cached model at C:\\Users\\Steven\\.cache\\huggingface\\hub\\models--minishlab--potion-retrieval-32M\\snapshots\\3c52220caac03b85ca0730a4cdbbe77b92db0a39, loading from cache.\n",
      "INFO: Found cached model at C:\\Users\\Steven\\.cache\\huggingface\\hub\\models--minishlab--potion-retrieval-32M\\snapshots\\3c52220caac03b85ca0730a4cdbbe77b92db0a39, loading from cache.\n",
      "INFO: Found cached model at C:\\Users\\Steven\\.cache\\huggingface\\hub\\models--minishlab--potion-retrieval-32M\\snapshots\\3c52220caac03b85ca0730a4cdbbe77b92db0a39, loading from cache.\n",
      "INFO: Found cached model at C:\\Users\\Steven\\.cache\\huggingface\\hub\\models--minishlab--potion-retrieval-32M\\snapshots\\3c52220caac03b85ca0730a4cdbbe77b92db0a39, loading from cache.\n",
      "INFO: Found cached model at C:\\Users\\Steven\\.cache\\huggingface\\hub\\models--minishlab--potion-retrieval-32M\\snapshots\\3c52220caac03b85ca0730a4cdbbe77b92db0a39, loading from cache.\n",
      "INFO: Found cached model at C:\\Users\\Steven\\.cache\\huggingface\\hub\\models--minishlab--potion-retrieval-32M\\snapshots\\3c52220caac03b85ca0730a4cdbbe77b92db0a39, loading from cache.\n",
      "INFO: Found cached model at C:\\Users\\Steven\\.cache\\huggingface\\hub\\models--minishlab--potion-retrieval-32M\\snapshots\\3c52220caac03b85ca0730a4cdbbe77b92db0a39, loading from cache.\n",
      "INFO: Found cached model at C:\\Users\\Steven\\.cache\\huggingface\\hub\\models--minishlab--potion-retrieval-32M\\snapshots\\3c52220caac03b85ca0730a4cdbbe77b92db0a39, loading from cache.\n",
      "INFO: Found cached model at C:\\Users\\Steven\\.cache\\huggingface\\hub\\models--minishlab--potion-retrieval-32M\\snapshots\\3c52220caac03b85ca0730a4cdbbe77b92db0a39, loading from cache.\n",
      "INFO: Found cached model at C:\\Users\\Steven\\.cache\\huggingface\\hub\\models--minishlab--potion-retrieval-32M\\snapshots\\3c52220caac03b85ca0730a4cdbbe77b92db0a39, loading from cache.\n",
      "INFO: Found cached model at C:\\Users\\Steven\\.cache\\huggingface\\hub\\models--minishlab--potion-retrieval-32M\\snapshots\\3c52220caac03b85ca0730a4cdbbe77b92db0a39, loading from cache.\n",
      "INFO: Found cached model at C:\\Users\\Steven\\.cache\\huggingface\\hub\\models--minishlab--potion-retrieval-32M\\snapshots\\3c52220caac03b85ca0730a4cdbbe77b92db0a39, loading from cache.\n",
      "INFO: Found cached model at C:\\Users\\Steven\\.cache\\huggingface\\hub\\models--minishlab--potion-retrieval-32M\\snapshots\\3c52220caac03b85ca0730a4cdbbe77b92db0a39, loading from cache.\n",
      "INFO: Found cached model at C:\\Users\\Steven\\.cache\\huggingface\\hub\\models--minishlab--potion-retrieval-32M\\snapshots\\3c52220caac03b85ca0730a4cdbbe77b92db0a39, loading from cache.\n",
      "INFO: Found cached model at C:\\Users\\Steven\\.cache\\huggingface\\hub\\models--minishlab--potion-retrieval-32M\\snapshots\\3c52220caac03b85ca0730a4cdbbe77b92db0a39, loading from cache.\n",
      "INFO: Found cached model at C:\\Users\\Steven\\.cache\\huggingface\\hub\\models--minishlab--potion-retrieval-32M\\snapshots\\3c52220caac03b85ca0730a4cdbbe77b92db0a39, loading from cache.\n",
      "INFO: Found cached model at C:\\Users\\Steven\\.cache\\huggingface\\hub\\models--minishlab--potion-retrieval-32M\\snapshots\\3c52220caac03b85ca0730a4cdbbe77b92db0a39, loading from cache.\n",
      "INFO: Found cached model at C:\\Users\\Steven\\.cache\\huggingface\\hub\\models--minishlab--potion-retrieval-32M\\snapshots\\3c52220caac03b85ca0730a4cdbbe77b92db0a39, loading from cache.\n",
      "INFO: Found cached model at C:\\Users\\Steven\\.cache\\huggingface\\hub\\models--minishlab--potion-retrieval-32M\\snapshots\\3c52220caac03b85ca0730a4cdbbe77b92db0a39, loading from cache.\n",
      "INFO: Found cached model at C:\\Users\\Steven\\.cache\\huggingface\\hub\\models--minishlab--potion-retrieval-32M\\snapshots\\3c52220caac03b85ca0730a4cdbbe77b92db0a39, loading from cache.\n",
      "INFO: Found cached model at C:\\Users\\Steven\\.cache\\huggingface\\hub\\models--minishlab--potion-retrieval-32M\\snapshots\\3c52220caac03b85ca0730a4cdbbe77b92db0a39, loading from cache.\n",
      "INFO: Found cached model at C:\\Users\\Steven\\.cache\\huggingface\\hub\\models--minishlab--potion-retrieval-32M\\snapshots\\3c52220caac03b85ca0730a4cdbbe77b92db0a39, loading from cache.\n",
      "INFO: Found cached model at C:\\Users\\Steven\\.cache\\huggingface\\hub\\models--minishlab--potion-retrieval-32M\\snapshots\\3c52220caac03b85ca0730a4cdbbe77b92db0a39, loading from cache.\n",
      "INFO: Found cached model at C:\\Users\\Steven\\.cache\\huggingface\\hub\\models--minishlab--potion-retrieval-32M\\snapshots\\3c52220caac03b85ca0730a4cdbbe77b92db0a39, loading from cache.\n",
      "INFO: Found cached model at C:\\Users\\Steven\\.cache\\huggingface\\hub\\models--minishlab--potion-retrieval-32M\\snapshots\\3c52220caac03b85ca0730a4cdbbe77b92db0a39, loading from cache.\n",
      "INFO: Found cached model at C:\\Users\\Steven\\.cache\\huggingface\\hub\\models--minishlab--potion-retrieval-32M\\snapshots\\3c52220caac03b85ca0730a4cdbbe77b92db0a39, loading from cache.\n",
      "INFO: Found cached model at C:\\Users\\Steven\\.cache\\huggingface\\hub\\models--minishlab--potion-retrieval-32M\\snapshots\\3c52220caac03b85ca0730a4cdbbe77b92db0a39, loading from cache.\n",
      "INFO: Found cached model at C:\\Users\\Steven\\.cache\\huggingface\\hub\\models--minishlab--potion-retrieval-32M\\snapshots\\3c52220caac03b85ca0730a4cdbbe77b92db0a39, loading from cache.\n",
      "INFO: Found cached model at C:\\Users\\Steven\\.cache\\huggingface\\hub\\models--minishlab--potion-retrieval-32M\\snapshots\\3c52220caac03b85ca0730a4cdbbe77b92db0a39, loading from cache.\n",
      "INFO: Found cached model at C:\\Users\\Steven\\.cache\\huggingface\\hub\\models--minishlab--potion-retrieval-32M\\snapshots\\3c52220caac03b85ca0730a4cdbbe77b92db0a39, loading from cache.\n",
      "INFO: Found cached model at C:\\Users\\Steven\\.cache\\huggingface\\hub\\models--minishlab--potion-retrieval-32M\\snapshots\\3c52220caac03b85ca0730a4cdbbe77b92db0a39, loading from cache.\n",
      "INFO: Found cached model at C:\\Users\\Steven\\.cache\\huggingface\\hub\\models--minishlab--potion-retrieval-32M\\snapshots\\3c52220caac03b85ca0730a4cdbbe77b92db0a39, loading from cache.\n",
      "INFO: Found cached model at C:\\Users\\Steven\\.cache\\huggingface\\hub\\models--minishlab--potion-retrieval-32M\\snapshots\\3c52220caac03b85ca0730a4cdbbe77b92db0a39, loading from cache.\n",
      "INFO: Found cached model at C:\\Users\\Steven\\.cache\\huggingface\\hub\\models--minishlab--potion-retrieval-32M\\snapshots\\3c52220caac03b85ca0730a4cdbbe77b92db0a39, loading from cache.\n",
      "INFO: Found cached model at C:\\Users\\Steven\\.cache\\huggingface\\hub\\models--minishlab--potion-retrieval-32M\\snapshots\\3c52220caac03b85ca0730a4cdbbe77b92db0a39, loading from cache.\n",
      "INFO: Found cached model at C:\\Users\\Steven\\.cache\\huggingface\\hub\\models--minishlab--potion-retrieval-32M\\snapshots\\3c52220caac03b85ca0730a4cdbbe77b92db0a39, loading from cache.\n",
      "INFO: Found cached model at C:\\Users\\Steven\\.cache\\huggingface\\hub\\models--minishlab--potion-retrieval-32M\\snapshots\\3c52220caac03b85ca0730a4cdbbe77b92db0a39, loading from cache.\n",
      "INFO: Found cached model at C:\\Users\\Steven\\.cache\\huggingface\\hub\\models--minishlab--potion-retrieval-32M\\snapshots\\3c52220caac03b85ca0730a4cdbbe77b92db0a39, loading from cache.\n"
     ]
    }
   ],
   "source": [
    "def h():\n",
    "    results_nn = query_nn(\n",
    "        query = text,\n",
    "        index=index,\n",
    "        num_results=20)\n",
    "    \n",
    "results_nn = timeit.timeit(h, number=100)"
   ]
  },
  {
   "cell_type": "code",
   "execution_count": 7,
   "id": "851900f5",
   "metadata": {},
   "outputs": [
    {
     "data": {
      "text/plain": [
       "36.03588260000106"
      ]
     },
     "execution_count": 7,
     "metadata": {},
     "output_type": "execute_result"
    }
   ],
   "source": [
    "results_nn"
   ]
  },
  {
   "cell_type": "code",
   "execution_count": null,
   "id": "1fb25588",
   "metadata": {},
   "outputs": [],
   "source": []
  },
  {
   "cell_type": "code",
   "execution_count": 8,
   "id": "5da2c41c",
   "metadata": {},
   "outputs": [],
   "source": [
    "problem_pdf = r\"C:\\Users\\Steven\\Documents\\Python\\super-search\\data\\tests\\4825.pdf\""
   ]
  },
  {
   "cell_type": "code",
   "execution_count": null,
   "id": "33a2921d",
   "metadata": {},
   "outputs": [
    {
     "name": "stderr",
     "output_type": "stream",
     "text": [
      "Extracting text from PDF: 100%|██████████| 43/43 [00:00<00:00, 10740.54it/s]\n"
     ]
    },
    {
     "ename": "KeyboardInterrupt",
     "evalue": "",
     "output_type": "error",
     "traceback": [
      "\u001b[31m---------------------------------------------------------------------------\u001b[39m",
      "\u001b[31mKeyboardInterrupt\u001b[39m                         Traceback (most recent call last)",
      "\u001b[36mCell\u001b[39m\u001b[36m \u001b[39m\u001b[32mIn[9]\u001b[39m\u001b[32m, line 1\u001b[39m\n\u001b[32m----> \u001b[39m\u001b[32m1\u001b[39m \u001b[43mprepare_PDF\u001b[49m\u001b[43m(\u001b[49m\u001b[43mproblem_pdf\u001b[49m\u001b[43m,\u001b[49m\u001b[43m \u001b[49m\u001b[32;43m512\u001b[39;49m\u001b[43m,\u001b[49m\u001b[43m \u001b[49m\u001b[32;43m32\u001b[39;49m\u001b[43m)\u001b[49m\n",
      "\u001b[36mFile \u001b[39m\u001b[32mc:\\Users\\Steven\\Documents\\Python\\super-search\\src\\utils.py:139\u001b[39m, in \u001b[36mprepare_PDF\u001b[39m\u001b[34m(in_path, _chunk_size, _chunk_overlap)\u001b[39m\n\u001b[32m    136\u001b[39m     \u001b[38;5;28;01mraise\u001b[39;00m \u001b[38;5;167;01mRuntimeError\u001b[39;00m(\u001b[33mf\u001b[39m\u001b[33m\"\u001b[39m\u001b[33mFailed to extract text from PDF: \u001b[39m\u001b[38;5;132;01m{\u001b[39;00me\u001b[38;5;132;01m}\u001b[39;00m\u001b[33m\"\u001b[39m)\n\u001b[32m    138\u001b[39m \u001b[38;5;66;03m# Initialize and apply the chunking strategy\u001b[39;00m\n\u001b[32m--> \u001b[39m\u001b[32m139\u001b[39m chunker = setup_chunker(_chunk_size, _chunk_overlap)\n\u001b[32m    141\u001b[39m \u001b[38;5;28;01mreturn\u001b[39;00m chunker(preprocess(paper_one_string))\n",
      "\u001b[36mFile \u001b[39m\u001b[32mc:\\Users\\Steven\\Documents\\Python\\super-search\\src\\utils.py:26\u001b[39m, in \u001b[36msetup_chunker.<locals>.chunker\u001b[39m\u001b[34m(text, chunk_size, chunk_overlap)\u001b[39m\n\u001b[32m     24\u001b[39m start = \u001b[32m0\u001b[39m\n\u001b[32m     25\u001b[39m end = chunk_size  \u001b[38;5;66;03m# Fixed: Remove the -1\u001b[39;00m\n\u001b[32m---> \u001b[39m\u001b[32m26\u001b[39m \u001b[38;5;28;01mwhile\u001b[39;00m end <= \u001b[38;5;28mlen\u001b[39m(words):  \u001b[38;5;66;03m# Fixed: Use <= since we're now using inclusive end\u001b[39;00m\n\u001b[32m     27\u001b[39m     chunk = \u001b[33m'\u001b[39m\u001b[33m \u001b[39m\u001b[33m'\u001b[39m.join(words[start:end])  \u001b[38;5;66;03m# This now correctly includes chunk_size words\u001b[39;00m\n\u001b[32m     28\u001b[39m     chunks.append(chunk)\n",
      "\u001b[31mKeyboardInterrupt\u001b[39m: "
     ]
    }
   ],
   "source": [
    "prepare_PDF(problem_pdf, 32, 4)"
   ]
  },
  {
   "cell_type": "code",
   "execution_count": 10,
   "id": "5fb2c7da",
   "metadata": {},
   "outputs": [
    {
     "name": "stderr",
     "output_type": "stream",
     "text": [
      "Extracting text from PDF: 100%|██████████| 43/43 [00:00<00:00, 8592.43it/s]\n"
     ]
    },
    {
     "data": {
      "text/plain": [
       "''"
      ]
     },
     "execution_count": 10,
     "metadata": {},
     "output_type": "execute_result"
    }
   ],
   "source": [
    "paper_one_string = \"\"\n",
    "counter=0\n",
    "doc = pymupdf.open(problem_pdf)\n",
    "\n",
    "for page in tqdm(doc, desc=\"Extracting text from PDF\"):\n",
    "    page_text = page.get_text()\n",
    "    if page_text:\n",
    "        paper_one_string += ' ' + page_text\n",
    "\n",
    "\n",
    "paper_one_string"
   ]
  },
  {
   "cell_type": "code",
   "execution_count": null,
   "id": "2d397711",
   "metadata": {},
   "outputs": [],
   "source": [
    "# Initialize and apply the chunking strategy\n",
    "chunker = setup_chunker(32, 4)\n",
    "\n",
    "chunker(preprocess(paper_one_string))"
   ]
  },
  {
   "cell_type": "code",
   "execution_count": 1,
   "id": "11fc3c6a",
   "metadata": {},
   "outputs": [
    {
     "name": "stderr",
     "output_type": "stream",
     "text": [
      "c:\\Users\\Steven\\Documents\\Python\\super-search\\.venv\\Lib\\site-packages\\tqdm\\auto.py:21: TqdmWarning: IProgress not found. Please update jupyter and ipywidgets. See https://ipywidgets.readthedocs.io/en/stable/user_install.html\n",
      "  from .autonotebook import tqdm as notebook_tqdm\n",
      "2025-10-14 19:23:50,937 - INFO - detected formats: [<InputFormat.DOCX: 'docx'>]\n",
      "2025-10-14 19:23:50,945 - INFO - Going to convert document batch...\n",
      "2025-10-14 19:23:50,946 - INFO - Initializing pipeline for SimplePipeline with options hash 995a146ad601044538e6a923bea22f4e\n",
      "2025-10-14 19:23:50,971 - INFO - Loading plugin 'docling_defaults'\n",
      "2025-10-14 19:23:51,008 - INFO - Registered picture descriptions: ['vlm', 'api']\n",
      "2025-10-14 19:23:51,009 - INFO - Processing document Interpreting regression equations.docx\n",
      "2025-10-14 19:23:51,016 - INFO - deleted item in tree at stack: (6,) => #/texts/5\n",
      "2025-10-14 19:23:51,019 - INFO - deleted item in tree at stack: (6,) => #/texts/5\n",
      "2025-10-14 19:23:51,021 - INFO - deleted item in tree at stack: (6,) => #/texts/5\n",
      "2025-10-14 19:23:51,023 - INFO - deleted item in tree at stack: (6,) => #/texts/5\n",
      "2025-10-14 19:23:51,026 - INFO - deleted item in tree at stack: (6,) => #/texts/5\n",
      "2025-10-14 19:23:51,028 - INFO - deleted item in tree at stack: (6,) => #/texts/5\n",
      "2025-10-14 19:23:51,030 - INFO - deleted item in tree at stack: (6,) => #/texts/5\n",
      "2025-10-14 19:23:51,033 - INFO - deleted item in tree at stack: (6,) => #/texts/5\n",
      "2025-10-14 19:23:51,035 - INFO - deleted item in tree at stack: (6,) => #/texts/5\n",
      "2025-10-14 19:23:51,037 - INFO - deleted item in tree at stack: (6,) => #/texts/5\n",
      "2025-10-14 19:23:51,039 - INFO - deleted item in tree at stack: (6,) => #/texts/5\n",
      "2025-10-14 19:23:51,041 - INFO - deleted item in tree at stack: (6,) => #/texts/5\n",
      "2025-10-14 19:23:51,043 - INFO - deleted item in tree at stack: (6,) => #/texts/5\n",
      "2025-10-14 19:23:51,045 - INFO - deleted item in tree at stack: (6,) => #/texts/5\n",
      "2025-10-14 19:23:51,047 - INFO - deleted item in tree at stack: (6,) => #/texts/5\n",
      "2025-10-14 19:23:51,049 - INFO - deleted item in tree at stack: (6,) => #/texts/5\n",
      "2025-10-14 19:23:51,051 - INFO - deleted item in tree at stack: (6,) => #/texts/5\n",
      "2025-10-14 19:23:51,054 - INFO - deleted item in tree at stack: (6,) => #/texts/5\n",
      "2025-10-14 19:23:51,057 - INFO - deleted item in tree at stack: (6,) => #/texts/5\n",
      "2025-10-14 19:23:51,059 - INFO - deleted item in tree at stack: (6,) => #/texts/5\n",
      "2025-10-14 19:23:51,061 - INFO - deleted item in tree at stack: (6,) => #/texts/5\n",
      "2025-10-14 19:23:51,063 - INFO - deleted item in tree at stack: (6,) => #/texts/5\n",
      "2025-10-14 19:23:51,064 - INFO - deleted item in tree at stack: (6,) => #/texts/5\n",
      "2025-10-14 19:23:51,067 - INFO - deleted item in tree at stack: (6,) => #/texts/5\n",
      "2025-10-14 19:23:51,069 - INFO - deleted item in tree at stack: (6,) => #/texts/5\n",
      "2025-10-14 19:23:51,071 - INFO - deleted item in tree at stack: (6,) => #/texts/5\n",
      "2025-10-14 19:23:51,073 - INFO - deleted item in tree at stack: (6,) => #/texts/5\n",
      "2025-10-14 19:23:51,075 - INFO - deleted item in tree at stack: (6,) => #/texts/5\n",
      "2025-10-14 19:23:51,078 - INFO - deleted item in tree at stack: (6,) => #/texts/5\n",
      "2025-10-14 19:23:51,080 - INFO - deleted item in tree at stack: (6,) => #/texts/5\n",
      "2025-10-14 19:23:51,082 - INFO - deleted item in tree at stack: (6,) => #/texts/5\n",
      "2025-10-14 19:23:51,084 - INFO - deleted item in tree at stack: (6,) => #/texts/5\n",
      "2025-10-14 19:23:51,086 - INFO - deleted item in tree at stack: (6,) => #/texts/5\n",
      "2025-10-14 19:23:51,088 - INFO - deleted item in tree at stack: (6,) => #/texts/5\n",
      "2025-10-14 19:23:51,090 - INFO - deleted item in tree at stack: (6,) => #/texts/5\n",
      "2025-10-14 19:23:51,092 - INFO - deleted item in tree at stack: (6,) => #/texts/5\n",
      "2025-10-14 19:23:51,094 - INFO - deleted item in tree at stack: (6,) => #/texts/5\n",
      "2025-10-14 19:23:51,096 - INFO - deleted item in tree at stack: (6,) => #/texts/5\n",
      "2025-10-14 19:23:51,098 - INFO - deleted item in tree at stack: (6,) => #/texts/5\n",
      "2025-10-14 19:23:51,100 - INFO - deleted item in tree at stack: (6,) => #/texts/5\n",
      "2025-10-14 19:23:51,101 - INFO - deleted item in tree at stack: (6,) => #/texts/5\n",
      "2025-10-14 19:23:51,104 - INFO - deleted item in tree at stack: (6,) => #/texts/5\n",
      "2025-10-14 19:23:51,105 - INFO - deleted item in tree at stack: (6,) => #/texts/5\n",
      "2025-10-14 19:23:51,108 - INFO - deleted item in tree at stack: (6,) => #/texts/5\n",
      "2025-10-14 19:23:51,110 - INFO - deleted item in tree at stack: (6,) => #/texts/5\n",
      "2025-10-14 19:23:51,112 - INFO - deleted item in tree at stack: (6,) => #/texts/5\n",
      "2025-10-14 19:23:51,114 - INFO - deleted item in tree at stack: (6,) => #/texts/5\n",
      "2025-10-14 19:23:51,116 - INFO - deleted item in tree at stack: (6,) => #/texts/5\n",
      "2025-10-14 19:23:51,118 - INFO - deleted item in tree at stack: (6,) => #/texts/5\n",
      "2025-10-14 19:23:51,120 - INFO - deleted item in tree at stack: (6,) => #/texts/5\n",
      "2025-10-14 19:23:51,122 - INFO - deleted item in tree at stack: (6,) => #/texts/5\n",
      "2025-10-14 19:23:51,124 - INFO - deleted item in tree at stack: (6,) => #/texts/5\n",
      "2025-10-14 19:23:51,126 - INFO - deleted item in tree at stack: (6,) => #/texts/5\n",
      "2025-10-14 19:23:51,128 - INFO - deleted item in tree at stack: (6,) => #/texts/5\n",
      "2025-10-14 19:23:51,130 - INFO - deleted item in tree at stack: (6,) => #/texts/5\n",
      "2025-10-14 19:23:51,132 - INFO - deleted item in tree at stack: (6,) => #/texts/5\n",
      "2025-10-14 19:23:51,134 - INFO - deleted item in tree at stack: (6,) => #/texts/5\n",
      "2025-10-14 19:23:51,136 - INFO - deleted item in tree at stack: (6,) => #/texts/5\n",
      "2025-10-14 19:23:51,137 - INFO - deleted item in tree at stack: (6,) => #/texts/5\n",
      "2025-10-14 19:23:51,139 - INFO - deleted item in tree at stack: (6,) => #/texts/5\n",
      "2025-10-14 19:23:51,141 - INFO - deleted item in tree at stack: (6,) => #/texts/5\n",
      "2025-10-14 19:23:51,143 - INFO - deleted item in tree at stack: (6,) => #/texts/5\n",
      "2025-10-14 19:23:51,145 - INFO - deleted item in tree at stack: (6,) => #/texts/5\n",
      "2025-10-14 19:23:51,148 - INFO - deleted item in tree at stack: (6,) => #/texts/5\n",
      "2025-10-14 19:23:51,150 - INFO - deleted item in tree at stack: (6,) => #/texts/5\n",
      "2025-10-14 19:23:51,152 - INFO - deleted item in tree at stack: (6,) => #/texts/5\n",
      "2025-10-14 19:23:51,154 - INFO - deleted item in tree at stack: (6,) => #/texts/5\n",
      "2025-10-14 19:23:51,156 - INFO - deleted item in tree at stack: (6,) => #/texts/5\n",
      "2025-10-14 19:23:51,158 - INFO - deleted item in tree at stack: (6,) => #/texts/5\n",
      "2025-10-14 19:23:51,160 - INFO - deleted item in tree at stack: (6,) => #/texts/5\n",
      "2025-10-14 19:23:51,162 - INFO - deleted item in tree at stack: (6,) => #/texts/5\n",
      "2025-10-14 19:23:51,164 - INFO - deleted item in tree at stack: (6,) => #/texts/5\n",
      "2025-10-14 19:23:51,166 - INFO - deleted item in tree at stack: (6,) => #/texts/5\n",
      "2025-10-14 19:23:51,168 - INFO - deleted item in tree at stack: (6,) => #/texts/5\n",
      "2025-10-14 19:23:51,170 - INFO - deleted item in tree at stack: (6,) => #/texts/5\n",
      "2025-10-14 19:23:51,172 - INFO - deleted item in tree at stack: (6,) => #/texts/5\n",
      "2025-10-14 19:23:51,174 - INFO - deleted item in tree at stack: (6,) => #/texts/5\n",
      "2025-10-14 19:23:51,176 - INFO - deleted item in tree at stack: (6,) => #/texts/5\n",
      "2025-10-14 19:23:51,177 - INFO - deleted item in tree at stack: (6,) => #/texts/5\n",
      "2025-10-14 19:23:51,179 - INFO - deleted item in tree at stack: (6,) => #/texts/5\n",
      "2025-10-14 19:23:51,181 - INFO - deleted item in tree at stack: (6,) => #/texts/5\n",
      "2025-10-14 19:23:51,183 - INFO - deleted item in tree at stack: (6,) => #/texts/5\n",
      "2025-10-14 19:23:51,186 - INFO - deleted item in tree at stack: (6,) => #/texts/5\n",
      "2025-10-14 19:23:51,188 - INFO - deleted item in tree at stack: (6,) => #/texts/5\n",
      "2025-10-14 19:23:51,189 - INFO - deleted item in tree at stack: (6,) => #/texts/5\n",
      "2025-10-14 19:23:51,191 - INFO - deleted item in tree at stack: (6,) => #/texts/5\n",
      "2025-10-14 19:23:51,193 - INFO - deleted item in tree at stack: (6,) => #/texts/5\n",
      "2025-10-14 19:23:51,195 - INFO - deleted item in tree at stack: (6,) => #/texts/5\n",
      "2025-10-14 19:23:51,197 - INFO - deleted item in tree at stack: (6,) => #/texts/5\n",
      "2025-10-14 19:23:51,199 - INFO - deleted item in tree at stack: (6,) => #/texts/5\n",
      "2025-10-14 19:23:51,202 - INFO - deleted item in tree at stack: (6,) => #/texts/5\n",
      "2025-10-14 19:23:51,204 - INFO - deleted item in tree at stack: (6,) => #/texts/5\n",
      "2025-10-14 19:23:51,206 - INFO - deleted item in tree at stack: (6,) => #/texts/5\n",
      "2025-10-14 19:23:51,208 - INFO - deleted item in tree at stack: (6,) => #/texts/5\n",
      "2025-10-14 19:23:51,210 - INFO - deleted item in tree at stack: (6,) => #/texts/5\n",
      "2025-10-14 19:23:51,212 - INFO - deleted item in tree at stack: (6,) => #/texts/5\n",
      "2025-10-14 19:23:51,214 - INFO - deleted item in tree at stack: (6,) => #/texts/5\n",
      "2025-10-14 19:23:51,217 - INFO - deleted item in tree at stack: (6,) => #/texts/5\n",
      "2025-10-14 19:23:51,219 - INFO - deleted item in tree at stack: (6,) => #/texts/5\n",
      "2025-10-14 19:23:51,221 - INFO - deleted item in tree at stack: (6,) => #/texts/5\n",
      "2025-10-14 19:23:51,223 - INFO - deleted item in tree at stack: (6,) => #/texts/5\n",
      "2025-10-14 19:23:51,225 - INFO - deleted item in tree at stack: (6,) => #/texts/5\n",
      "2025-10-14 19:23:51,227 - INFO - deleted item in tree at stack: (6,) => #/texts/5\n",
      "2025-10-14 19:23:51,229 - INFO - deleted item in tree at stack: (6,) => #/texts/5\n",
      "2025-10-14 19:23:51,231 - INFO - deleted item in tree at stack: (6,) => #/texts/5\n",
      "2025-10-14 19:23:52,168 - INFO - Finished converting document Interpreting regression equations.docx in 1.25 sec.\n"
     ]
    },
    {
     "name": "stdout",
     "output_type": "stream",
     "text": [
      "Interpreting Regression Equations\n",
      "\n",
      "Consider the following data from the 2014 NFL Regular Season:\n",
      "\n",
      "TO DIFF is the difference between the turnovers captured and turnovers given up, i.e. the greater the number, the better for the team. TO DIFF ranges from -15 for Oakland to +14 for Green Bay. The NFL season is 16 games long, and WINS range from 2 for Tampa Bay to 12 for New England, Denver, Dallas, Green Bay, and Seattle.\n",
      "\n",
      "| Team                 | Wins   | TO   |\n",
      "|----------------------|--------|------|\n",
      "| New Orleans Saints   | 7      | -13  |\n",
      "| Denver Broncos       | 12     | 5    |\n",
      "| Houston Texans       | 9      | 12   |\n",
      "| Arizona Cardinals    | 11     | 8    |\n",
      "| New England Patriots | 12     | 12   |\n",
      "| Altantla Falcons     | 6      | 5    |\n",
      "| New York Giants      | 6      | -2   |\n",
      "| Green Bay Packers    | 12     | 14   |\n",
      "| Philadelphia Eagles  | 10     | -8   |\n",
      "| Carolina Panthers    | 7.5    | 3    |\n",
      "| San Diego Chargers   | 9      | -5   |\n",
      "| Miami Dolphins       | 8      | 2    |\n",
      "| Dallas Cowboys       | 12     | 6    |\n",
      "| Tampa Bay Buccaneers | 2      | -8   |\n",
      "| Indianapolis Colts   | 11     | -5   |\n",
      "| New York Jets        | 4      | -11  |\n",
      "| Minnesota Vikings    | 7      | -1   |\n",
      "| Baltimore Ravens     | 10     | 2    |\n",
      "| Washington Redskins  | 4      | -12  |\n",
      "| Jacksonville Jaguars | 3      | -6   |\n",
      "| Tennessee Titans     | 2      | -10  |\n",
      "| Pittsburgh Steelers  | 11     | 0    |\n",
      "| San Francisco 49ers  | 8      | 7    |\n",
      "| Kansas City Chiefs   | 9      | -3   |\n",
      "| Buffalo Bills        | 9      | 7    |\n",
      "| Chicago Bears        | 5      | -5   |\n",
      "| St. Louis Rams       | 6      | -2   |\n",
      "| Seattle Seahawks     | 12     | 10   |\n",
      "| Oakland Raiders      | 3      | -15  |\n",
      "| Detriot Lions        | 11     | 7    |\n",
      "| Cleveland Browns     | 7      | 6    |\n",
      "| Cincinnati Bengals   | 10.5   | 0    |\n",
      "|                      |        |      |\n",
      "| Average              | 8      | 0    |\n",
      "\n",
      "Note that since each game has both a winner and a loser, the average number of WINS is 8. Also, since a turnover captured by team A is one given up by Team B, the average value for TO DIFF is 0.\n",
      "\n",
      "The relation between WINS and TO DIFF is depicted in the graph below. There is an obvious positive relationship between the two variables.\n",
      "\n",
      "<!-- image -->\n",
      "\n",
      "A linear least squares regression is one way of quantifying the relation between two variables such as this. A regression equation estimated by a statistical package like SAS, Stata, or a spreadsheet program like Excel uses formulas which define a line through the data (hence the term linear) which has the property that the sum of the squared distances between a line and the data points is minimized (hence the term least squares).\n",
      "\n",
      "The least squares regression line through the data on turnovers and wins is depicted below.\n",
      "\n",
      "<!-- image -->\n",
      "\n",
      "The line is the estimated regression line through the data. Note that it passes through the means of the data (0 turnovers, 8 wins).\n",
      "\n",
      "Note that also if a team were to move from 0 turnovers to +10 turnovers (remember, takeaways minus giveaways) then the line implies wins would increase from 8 to 10. +10 turnovers in a 16 game season represents about 1 net turnover per game. Such a team wins two more games in the season. This suggests that turnovers are a non-trivial part of NFL football, perhaps important.\n",
      "\n",
      "The regression line in this case takes the form:\n",
      "\n",
      "WINS = A + B*TODIFF\n",
      "\n",
      "where A is the intercept and B is the slope of the coefficient. The slope coefficient measures the incremental effect of TODIFF on Wins. The statistical or spreadsheet package delivers estimates for the intercept and slope coefficients derived from least squares formulas.\n",
      "\n",
      "The statistical tables presented in the papers we’ll be reading in class have three important things to focus on.\n",
      "\n",
      "1.   The magnitude of the coefficients in the estimated linear regression.\n",
      "\n",
      "We will examine the magnitude of the coefficients to see how reasonable changes in a variable such as turnovers affects an outcome of interest, such as wins.\n",
      "\n",
      "2.    The precision of the estimates (t-stat or t-ratio)\n",
      "\n",
      "The t-ratios reported in tables are typically the ratio of the coefficient estimate divided by its standard error. The larger the standard error, the less precise the coefficient estimate. Obviously, we prefer to make observations based on coefficients which are large relative to the imprecision in their estimate. Hence, the larger the t-ratio, the more confident we are in making these observations.\n",
      "\n",
      "Our rule of thumb is that coefficient estimates are reasonably precise when their t-ratios are 2.0 or better. There is some statistical theory behind this rule of thumb, but we don’t need to go into that here.\n",
      "\n",
      "3.    The explanatory power of the regression (R2 or R-squared).\n",
      "\n",
      "R2 measures the percent of the variation of the dependent variable that is explained by the regression equation. R2 thus lies between zero and one.\n",
      "\n",
      "If R2 = 1, then all data points would lie of the regression line. For lesser values of R2, the data points will be dispersed some distance from the line. The better the fit of the line to the data, the higher the R2. We are thus more confident in making observations when R2 is high (near 1) than low (near 0).\n",
      "\n",
      "The output from an Excel spreadsheet regression of WINS on TODIFF is listed below.\n",
      "\n",
      "<!-- image -->\n",
      "\n",
      "From the column labeled coefficients, we see that A = 8 and B = .277692308. Hence our estimated equation is\n",
      "\n",
      "WINS = 8 + 0.277692308*TODIFF\n",
      "\n",
      "The t-stat column reports the t-ratios for each coefficient estimate. They are both well beyond our cutoff point of 2.0, so we can have some confidence in making observations based on this table.\n",
      "\n",
      "The value for R2 is .481185231, indicating that 48.1% of the variance in WINS across NFL teams is “explained” by just TODIFF. This is surprisingly large, but far from 1.\n",
      "\n",
      "If we were to give a team 1 additional turnover per game, TODIFF would be 16 (given the 16 game season).\n",
      "\n",
      "Since the coefficient estimate is a slope, we can then calculate the following:\n",
      "\n",
      "$\\Delta$ WINDS +.277692308* $\\Delta$ TODIFF\n",
      "\n",
      "or  $\\Delta$ WINS = .277692308*16 = 4.44\n",
      "\n",
      "for  $\\Delta$ TODIFF = 16\n",
      "\n",
      "Hence, 1 additional turnover per game accounts for 4 more wins in a 16 game NFL season.\n",
      "\n",
      "On can add more variables to the equation, which puts us in the realm of multiple or multivariate (meaning more than 1 independent variable) regression.\n",
      "\n",
      "In the case of NFL wins, the strength of the offense at gaining yards &amp; the defense at preventing teams from gaining yards are obviously relevant. If we estimate a linear regression using these factors in addition to turnovers we obtain the following (again, from the 2014 season). In the table OYDS represents average yards gained per game by a team’s offense. DYDS represents average yards allowed per game by a team’s defense.\n",
      "\n",
      "<!-- image -->\n",
      "\n",
      "Most coefficient estimates have t-stats in excess of 2.\n",
      "\n",
      "The magnitude of the coefficient estimate for TO DIFF (at .073342) is smaller now that we take into account offensive and defensive prowess. Is it significant?\n",
      "\n",
      "The coefficient for OYDS is .045. So a team that increases its yards gained by 50 yards per game could expect to increase its win total by .045(50) = 2.25.\n",
      "\n",
      "The coefficient for DYDS is -.029. So a team that decreases its yards allowed per game by 50 yards per game could expect to increase its win total by -.029(-50) = 1.45.\n",
      "\n",
      "The regression hints that, yard for yard, it is more important for your offense to gain yardage than to deny the opposing team yardage.\n",
      "\n",
      "Looking at R2, we find that adding these two factors raises the variance of WINS explained by the regression to 77.8%. Not bad for a simple regression.\n"
     ]
    }
   ],
   "source": [
    "from docling.document_converter import DocumentConverter\n",
    "\n",
    "source = r\"C:\\Users\\Steven\\Documents\\Python\\super-search\\data\\Interpreting regression equations.docx\"  # document per local path or URL\n",
    "converter = DocumentConverter()\n",
    "result = converter.convert(source)\n",
    "print(result.document.export_to_markdown()) "
   ]
  }
 ],
 "metadata": {
  "kernelspec": {
   "display_name": ".venv",
   "language": "python",
   "name": "python3"
  },
  "language_info": {
   "codemirror_mode": {
    "name": "ipython",
    "version": 3
   },
   "file_extension": ".py",
   "mimetype": "text/x-python",
   "name": "python",
   "nbconvert_exporter": "python",
   "pygments_lexer": "ipython3",
   "version": "3.12.10"
  }
 },
 "nbformat": 4,
 "nbformat_minor": 5
}
