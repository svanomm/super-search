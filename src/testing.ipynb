{
 "cells": [
  {
   "cell_type": "code",
   "execution_count": 5,
   "id": "d65ff4ed",
   "metadata": {},
   "outputs": [],
   "source": [
    "from utils import *\n",
    "from queries import *\n",
    "from indexes import *\n",
    "import timeit"
   ]
  },
  {
   "cell_type": "code",
   "execution_count": 2,
   "id": "c32a9eb0",
   "metadata": {},
   "outputs": [],
   "source": [
    "with open(r\"C:\\Users\\Steven\\Documents\\Python\\super-search\\chunked_db.json\", \"r\", encoding=\"utf-8\") as f:\n",
    "    chunks = json.load(f)"
   ]
  },
  {
   "cell_type": "code",
   "execution_count": 2,
   "id": "3471d5d6",
   "metadata": {},
   "outputs": [],
   "source": [
    "text = \"Current Population Survey (CPS)\""
   ]
  },
  {
   "cell_type": "code",
   "execution_count": null,
   "id": "f2e216c1",
   "metadata": {},
   "outputs": [],
   "source": [
    "def g():\n",
    "    results_direct = query_direct(\n",
    "        query = text,\n",
    "        chunks=chunks,\n",
    "        num_results=20)\n",
    "\n",
    "results_direct = timeit.timeit(g, number=100)"
   ]
  },
  {
   "cell_type": "code",
   "execution_count": 4,
   "id": "dd75a41f",
   "metadata": {},
   "outputs": [
    {
     "data": {
      "text/plain": [
       "60.28549640002893"
      ]
     },
     "execution_count": 4,
     "metadata": {},
     "output_type": "execute_result"
    }
   ],
   "source": [
    "results_direct"
   ]
  },
  {
   "cell_type": "code",
   "execution_count": 3,
   "id": "1e9482af",
   "metadata": {},
   "outputs": [
    {
     "name": "stdout",
     "output_type": "stream",
     "text": [
      "Mon Oct 13 13:06:54 2025 Building and compiling search function\n"
     ]
    }
   ],
   "source": [
    "index = pickle.load(open(r\"C:\\Users\\Steven\\Documents\\Python\\super-search\\nn_database.pkl\", 'rb'))"
   ]
  },
  {
   "cell_type": "code",
   "execution_count": 6,
   "id": "408e7c7c",
   "metadata": {},
   "outputs": [
    {
     "name": "stderr",
     "output_type": "stream",
     "text": [
      "INFO: Found cached model at C:\\Users\\Steven\\.cache\\huggingface\\hub\\models--minishlab--potion-retrieval-32M\\snapshots\\3c52220caac03b85ca0730a4cdbbe77b92db0a39, loading from cache.\n",
      "INFO: Found cached model at C:\\Users\\Steven\\.cache\\huggingface\\hub\\models--minishlab--potion-retrieval-32M\\snapshots\\3c52220caac03b85ca0730a4cdbbe77b92db0a39, loading from cache.\n",
      "INFO: Found cached model at C:\\Users\\Steven\\.cache\\huggingface\\hub\\models--minishlab--potion-retrieval-32M\\snapshots\\3c52220caac03b85ca0730a4cdbbe77b92db0a39, loading from cache.\n",
      "INFO: Found cached model at C:\\Users\\Steven\\.cache\\huggingface\\hub\\models--minishlab--potion-retrieval-32M\\snapshots\\3c52220caac03b85ca0730a4cdbbe77b92db0a39, loading from cache.\n",
      "INFO: Found cached model at C:\\Users\\Steven\\.cache\\huggingface\\hub\\models--minishlab--potion-retrieval-32M\\snapshots\\3c52220caac03b85ca0730a4cdbbe77b92db0a39, loading from cache.\n",
      "INFO: Found cached model at C:\\Users\\Steven\\.cache\\huggingface\\hub\\models--minishlab--potion-retrieval-32M\\snapshots\\3c52220caac03b85ca0730a4cdbbe77b92db0a39, loading from cache.\n",
      "INFO: Found cached model at C:\\Users\\Steven\\.cache\\huggingface\\hub\\models--minishlab--potion-retrieval-32M\\snapshots\\3c52220caac03b85ca0730a4cdbbe77b92db0a39, loading from cache.\n",
      "INFO: Found cached model at C:\\Users\\Steven\\.cache\\huggingface\\hub\\models--minishlab--potion-retrieval-32M\\snapshots\\3c52220caac03b85ca0730a4cdbbe77b92db0a39, loading from cache.\n",
      "INFO: Found cached model at C:\\Users\\Steven\\.cache\\huggingface\\hub\\models--minishlab--potion-retrieval-32M\\snapshots\\3c52220caac03b85ca0730a4cdbbe77b92db0a39, loading from cache.\n",
      "INFO: Found cached model at C:\\Users\\Steven\\.cache\\huggingface\\hub\\models--minishlab--potion-retrieval-32M\\snapshots\\3c52220caac03b85ca0730a4cdbbe77b92db0a39, loading from cache.\n",
      "INFO: Found cached model at C:\\Users\\Steven\\.cache\\huggingface\\hub\\models--minishlab--potion-retrieval-32M\\snapshots\\3c52220caac03b85ca0730a4cdbbe77b92db0a39, loading from cache.\n",
      "INFO: Found cached model at C:\\Users\\Steven\\.cache\\huggingface\\hub\\models--minishlab--potion-retrieval-32M\\snapshots\\3c52220caac03b85ca0730a4cdbbe77b92db0a39, loading from cache.\n",
      "INFO: Found cached model at C:\\Users\\Steven\\.cache\\huggingface\\hub\\models--minishlab--potion-retrieval-32M\\snapshots\\3c52220caac03b85ca0730a4cdbbe77b92db0a39, loading from cache.\n",
      "INFO: Found cached model at C:\\Users\\Steven\\.cache\\huggingface\\hub\\models--minishlab--potion-retrieval-32M\\snapshots\\3c52220caac03b85ca0730a4cdbbe77b92db0a39, loading from cache.\n",
      "INFO: Found cached model at C:\\Users\\Steven\\.cache\\huggingface\\hub\\models--minishlab--potion-retrieval-32M\\snapshots\\3c52220caac03b85ca0730a4cdbbe77b92db0a39, loading from cache.\n",
      "INFO: Found cached model at C:\\Users\\Steven\\.cache\\huggingface\\hub\\models--minishlab--potion-retrieval-32M\\snapshots\\3c52220caac03b85ca0730a4cdbbe77b92db0a39, loading from cache.\n",
      "INFO: Found cached model at C:\\Users\\Steven\\.cache\\huggingface\\hub\\models--minishlab--potion-retrieval-32M\\snapshots\\3c52220caac03b85ca0730a4cdbbe77b92db0a39, loading from cache.\n",
      "INFO: Found cached model at C:\\Users\\Steven\\.cache\\huggingface\\hub\\models--minishlab--potion-retrieval-32M\\snapshots\\3c52220caac03b85ca0730a4cdbbe77b92db0a39, loading from cache.\n",
      "INFO: Found cached model at C:\\Users\\Steven\\.cache\\huggingface\\hub\\models--minishlab--potion-retrieval-32M\\snapshots\\3c52220caac03b85ca0730a4cdbbe77b92db0a39, loading from cache.\n",
      "INFO: Found cached model at C:\\Users\\Steven\\.cache\\huggingface\\hub\\models--minishlab--potion-retrieval-32M\\snapshots\\3c52220caac03b85ca0730a4cdbbe77b92db0a39, loading from cache.\n",
      "INFO: Found cached model at C:\\Users\\Steven\\.cache\\huggingface\\hub\\models--minishlab--potion-retrieval-32M\\snapshots\\3c52220caac03b85ca0730a4cdbbe77b92db0a39, loading from cache.\n",
      "INFO: Found cached model at C:\\Users\\Steven\\.cache\\huggingface\\hub\\models--minishlab--potion-retrieval-32M\\snapshots\\3c52220caac03b85ca0730a4cdbbe77b92db0a39, loading from cache.\n",
      "INFO: Found cached model at C:\\Users\\Steven\\.cache\\huggingface\\hub\\models--minishlab--potion-retrieval-32M\\snapshots\\3c52220caac03b85ca0730a4cdbbe77b92db0a39, loading from cache.\n",
      "INFO: Found cached model at C:\\Users\\Steven\\.cache\\huggingface\\hub\\models--minishlab--potion-retrieval-32M\\snapshots\\3c52220caac03b85ca0730a4cdbbe77b92db0a39, loading from cache.\n",
      "INFO: Found cached model at C:\\Users\\Steven\\.cache\\huggingface\\hub\\models--minishlab--potion-retrieval-32M\\snapshots\\3c52220caac03b85ca0730a4cdbbe77b92db0a39, loading from cache.\n",
      "INFO: Found cached model at C:\\Users\\Steven\\.cache\\huggingface\\hub\\models--minishlab--potion-retrieval-32M\\snapshots\\3c52220caac03b85ca0730a4cdbbe77b92db0a39, loading from cache.\n",
      "INFO: Found cached model at C:\\Users\\Steven\\.cache\\huggingface\\hub\\models--minishlab--potion-retrieval-32M\\snapshots\\3c52220caac03b85ca0730a4cdbbe77b92db0a39, loading from cache.\n",
      "INFO: Found cached model at C:\\Users\\Steven\\.cache\\huggingface\\hub\\models--minishlab--potion-retrieval-32M\\snapshots\\3c52220caac03b85ca0730a4cdbbe77b92db0a39, loading from cache.\n",
      "INFO: Found cached model at C:\\Users\\Steven\\.cache\\huggingface\\hub\\models--minishlab--potion-retrieval-32M\\snapshots\\3c52220caac03b85ca0730a4cdbbe77b92db0a39, loading from cache.\n",
      "INFO: Found cached model at C:\\Users\\Steven\\.cache\\huggingface\\hub\\models--minishlab--potion-retrieval-32M\\snapshots\\3c52220caac03b85ca0730a4cdbbe77b92db0a39, loading from cache.\n",
      "INFO: Found cached model at C:\\Users\\Steven\\.cache\\huggingface\\hub\\models--minishlab--potion-retrieval-32M\\snapshots\\3c52220caac03b85ca0730a4cdbbe77b92db0a39, loading from cache.\n",
      "INFO: Found cached model at C:\\Users\\Steven\\.cache\\huggingface\\hub\\models--minishlab--potion-retrieval-32M\\snapshots\\3c52220caac03b85ca0730a4cdbbe77b92db0a39, loading from cache.\n",
      "INFO: Found cached model at C:\\Users\\Steven\\.cache\\huggingface\\hub\\models--minishlab--potion-retrieval-32M\\snapshots\\3c52220caac03b85ca0730a4cdbbe77b92db0a39, loading from cache.\n",
      "INFO: Found cached model at C:\\Users\\Steven\\.cache\\huggingface\\hub\\models--minishlab--potion-retrieval-32M\\snapshots\\3c52220caac03b85ca0730a4cdbbe77b92db0a39, loading from cache.\n",
      "INFO: Found cached model at C:\\Users\\Steven\\.cache\\huggingface\\hub\\models--minishlab--potion-retrieval-32M\\snapshots\\3c52220caac03b85ca0730a4cdbbe77b92db0a39, loading from cache.\n",
      "INFO: Found cached model at C:\\Users\\Steven\\.cache\\huggingface\\hub\\models--minishlab--potion-retrieval-32M\\snapshots\\3c52220caac03b85ca0730a4cdbbe77b92db0a39, loading from cache.\n",
      "INFO: Found cached model at C:\\Users\\Steven\\.cache\\huggingface\\hub\\models--minishlab--potion-retrieval-32M\\snapshots\\3c52220caac03b85ca0730a4cdbbe77b92db0a39, loading from cache.\n",
      "INFO: Found cached model at C:\\Users\\Steven\\.cache\\huggingface\\hub\\models--minishlab--potion-retrieval-32M\\snapshots\\3c52220caac03b85ca0730a4cdbbe77b92db0a39, loading from cache.\n",
      "INFO: Found cached model at C:\\Users\\Steven\\.cache\\huggingface\\hub\\models--minishlab--potion-retrieval-32M\\snapshots\\3c52220caac03b85ca0730a4cdbbe77b92db0a39, loading from cache.\n",
      "INFO: Found cached model at C:\\Users\\Steven\\.cache\\huggingface\\hub\\models--minishlab--potion-retrieval-32M\\snapshots\\3c52220caac03b85ca0730a4cdbbe77b92db0a39, loading from cache.\n",
      "INFO: Found cached model at C:\\Users\\Steven\\.cache\\huggingface\\hub\\models--minishlab--potion-retrieval-32M\\snapshots\\3c52220caac03b85ca0730a4cdbbe77b92db0a39, loading from cache.\n",
      "INFO: Found cached model at C:\\Users\\Steven\\.cache\\huggingface\\hub\\models--minishlab--potion-retrieval-32M\\snapshots\\3c52220caac03b85ca0730a4cdbbe77b92db0a39, loading from cache.\n",
      "INFO: Found cached model at C:\\Users\\Steven\\.cache\\huggingface\\hub\\models--minishlab--potion-retrieval-32M\\snapshots\\3c52220caac03b85ca0730a4cdbbe77b92db0a39, loading from cache.\n",
      "INFO: Found cached model at C:\\Users\\Steven\\.cache\\huggingface\\hub\\models--minishlab--potion-retrieval-32M\\snapshots\\3c52220caac03b85ca0730a4cdbbe77b92db0a39, loading from cache.\n",
      "INFO: Found cached model at C:\\Users\\Steven\\.cache\\huggingface\\hub\\models--minishlab--potion-retrieval-32M\\snapshots\\3c52220caac03b85ca0730a4cdbbe77b92db0a39, loading from cache.\n",
      "INFO: Found cached model at C:\\Users\\Steven\\.cache\\huggingface\\hub\\models--minishlab--potion-retrieval-32M\\snapshots\\3c52220caac03b85ca0730a4cdbbe77b92db0a39, loading from cache.\n",
      "INFO: Found cached model at C:\\Users\\Steven\\.cache\\huggingface\\hub\\models--minishlab--potion-retrieval-32M\\snapshots\\3c52220caac03b85ca0730a4cdbbe77b92db0a39, loading from cache.\n",
      "INFO: Found cached model at C:\\Users\\Steven\\.cache\\huggingface\\hub\\models--minishlab--potion-retrieval-32M\\snapshots\\3c52220caac03b85ca0730a4cdbbe77b92db0a39, loading from cache.\n",
      "INFO: Found cached model at C:\\Users\\Steven\\.cache\\huggingface\\hub\\models--minishlab--potion-retrieval-32M\\snapshots\\3c52220caac03b85ca0730a4cdbbe77b92db0a39, loading from cache.\n",
      "INFO: Found cached model at C:\\Users\\Steven\\.cache\\huggingface\\hub\\models--minishlab--potion-retrieval-32M\\snapshots\\3c52220caac03b85ca0730a4cdbbe77b92db0a39, loading from cache.\n",
      "INFO: Found cached model at C:\\Users\\Steven\\.cache\\huggingface\\hub\\models--minishlab--potion-retrieval-32M\\snapshots\\3c52220caac03b85ca0730a4cdbbe77b92db0a39, loading from cache.\n",
      "INFO: Found cached model at C:\\Users\\Steven\\.cache\\huggingface\\hub\\models--minishlab--potion-retrieval-32M\\snapshots\\3c52220caac03b85ca0730a4cdbbe77b92db0a39, loading from cache.\n",
      "INFO: Found cached model at C:\\Users\\Steven\\.cache\\huggingface\\hub\\models--minishlab--potion-retrieval-32M\\snapshots\\3c52220caac03b85ca0730a4cdbbe77b92db0a39, loading from cache.\n",
      "INFO: Found cached model at C:\\Users\\Steven\\.cache\\huggingface\\hub\\models--minishlab--potion-retrieval-32M\\snapshots\\3c52220caac03b85ca0730a4cdbbe77b92db0a39, loading from cache.\n",
      "INFO: Found cached model at C:\\Users\\Steven\\.cache\\huggingface\\hub\\models--minishlab--potion-retrieval-32M\\snapshots\\3c52220caac03b85ca0730a4cdbbe77b92db0a39, loading from cache.\n",
      "INFO: Found cached model at C:\\Users\\Steven\\.cache\\huggingface\\hub\\models--minishlab--potion-retrieval-32M\\snapshots\\3c52220caac03b85ca0730a4cdbbe77b92db0a39, loading from cache.\n",
      "INFO: Found cached model at C:\\Users\\Steven\\.cache\\huggingface\\hub\\models--minishlab--potion-retrieval-32M\\snapshots\\3c52220caac03b85ca0730a4cdbbe77b92db0a39, loading from cache.\n",
      "INFO: Found cached model at C:\\Users\\Steven\\.cache\\huggingface\\hub\\models--minishlab--potion-retrieval-32M\\snapshots\\3c52220caac03b85ca0730a4cdbbe77b92db0a39, loading from cache.\n",
      "INFO: Found cached model at C:\\Users\\Steven\\.cache\\huggingface\\hub\\models--minishlab--potion-retrieval-32M\\snapshots\\3c52220caac03b85ca0730a4cdbbe77b92db0a39, loading from cache.\n",
      "INFO: Found cached model at C:\\Users\\Steven\\.cache\\huggingface\\hub\\models--minishlab--potion-retrieval-32M\\snapshots\\3c52220caac03b85ca0730a4cdbbe77b92db0a39, loading from cache.\n",
      "INFO: Found cached model at C:\\Users\\Steven\\.cache\\huggingface\\hub\\models--minishlab--potion-retrieval-32M\\snapshots\\3c52220caac03b85ca0730a4cdbbe77b92db0a39, loading from cache.\n",
      "INFO: Found cached model at C:\\Users\\Steven\\.cache\\huggingface\\hub\\models--minishlab--potion-retrieval-32M\\snapshots\\3c52220caac03b85ca0730a4cdbbe77b92db0a39, loading from cache.\n",
      "INFO: Found cached model at C:\\Users\\Steven\\.cache\\huggingface\\hub\\models--minishlab--potion-retrieval-32M\\snapshots\\3c52220caac03b85ca0730a4cdbbe77b92db0a39, loading from cache.\n",
      "INFO: Found cached model at C:\\Users\\Steven\\.cache\\huggingface\\hub\\models--minishlab--potion-retrieval-32M\\snapshots\\3c52220caac03b85ca0730a4cdbbe77b92db0a39, loading from cache.\n",
      "INFO: Found cached model at C:\\Users\\Steven\\.cache\\huggingface\\hub\\models--minishlab--potion-retrieval-32M\\snapshots\\3c52220caac03b85ca0730a4cdbbe77b92db0a39, loading from cache.\n",
      "INFO: Found cached model at C:\\Users\\Steven\\.cache\\huggingface\\hub\\models--minishlab--potion-retrieval-32M\\snapshots\\3c52220caac03b85ca0730a4cdbbe77b92db0a39, loading from cache.\n",
      "INFO: Found cached model at C:\\Users\\Steven\\.cache\\huggingface\\hub\\models--minishlab--potion-retrieval-32M\\snapshots\\3c52220caac03b85ca0730a4cdbbe77b92db0a39, loading from cache.\n",
      "INFO: Found cached model at C:\\Users\\Steven\\.cache\\huggingface\\hub\\models--minishlab--potion-retrieval-32M\\snapshots\\3c52220caac03b85ca0730a4cdbbe77b92db0a39, loading from cache.\n",
      "INFO: Found cached model at C:\\Users\\Steven\\.cache\\huggingface\\hub\\models--minishlab--potion-retrieval-32M\\snapshots\\3c52220caac03b85ca0730a4cdbbe77b92db0a39, loading from cache.\n",
      "INFO: Found cached model at C:\\Users\\Steven\\.cache\\huggingface\\hub\\models--minishlab--potion-retrieval-32M\\snapshots\\3c52220caac03b85ca0730a4cdbbe77b92db0a39, loading from cache.\n",
      "INFO: Found cached model at C:\\Users\\Steven\\.cache\\huggingface\\hub\\models--minishlab--potion-retrieval-32M\\snapshots\\3c52220caac03b85ca0730a4cdbbe77b92db0a39, loading from cache.\n",
      "INFO: Found cached model at C:\\Users\\Steven\\.cache\\huggingface\\hub\\models--minishlab--potion-retrieval-32M\\snapshots\\3c52220caac03b85ca0730a4cdbbe77b92db0a39, loading from cache.\n",
      "INFO: Found cached model at C:\\Users\\Steven\\.cache\\huggingface\\hub\\models--minishlab--potion-retrieval-32M\\snapshots\\3c52220caac03b85ca0730a4cdbbe77b92db0a39, loading from cache.\n",
      "INFO: Found cached model at C:\\Users\\Steven\\.cache\\huggingface\\hub\\models--minishlab--potion-retrieval-32M\\snapshots\\3c52220caac03b85ca0730a4cdbbe77b92db0a39, loading from cache.\n",
      "INFO: Found cached model at C:\\Users\\Steven\\.cache\\huggingface\\hub\\models--minishlab--potion-retrieval-32M\\snapshots\\3c52220caac03b85ca0730a4cdbbe77b92db0a39, loading from cache.\n",
      "INFO: Found cached model at C:\\Users\\Steven\\.cache\\huggingface\\hub\\models--minishlab--potion-retrieval-32M\\snapshots\\3c52220caac03b85ca0730a4cdbbe77b92db0a39, loading from cache.\n",
      "INFO: Found cached model at C:\\Users\\Steven\\.cache\\huggingface\\hub\\models--minishlab--potion-retrieval-32M\\snapshots\\3c52220caac03b85ca0730a4cdbbe77b92db0a39, loading from cache.\n",
      "INFO: Found cached model at C:\\Users\\Steven\\.cache\\huggingface\\hub\\models--minishlab--potion-retrieval-32M\\snapshots\\3c52220caac03b85ca0730a4cdbbe77b92db0a39, loading from cache.\n",
      "INFO: Found cached model at C:\\Users\\Steven\\.cache\\huggingface\\hub\\models--minishlab--potion-retrieval-32M\\snapshots\\3c52220caac03b85ca0730a4cdbbe77b92db0a39, loading from cache.\n",
      "INFO: Found cached model at C:\\Users\\Steven\\.cache\\huggingface\\hub\\models--minishlab--potion-retrieval-32M\\snapshots\\3c52220caac03b85ca0730a4cdbbe77b92db0a39, loading from cache.\n",
      "INFO: Found cached model at C:\\Users\\Steven\\.cache\\huggingface\\hub\\models--minishlab--potion-retrieval-32M\\snapshots\\3c52220caac03b85ca0730a4cdbbe77b92db0a39, loading from cache.\n",
      "INFO: Found cached model at C:\\Users\\Steven\\.cache\\huggingface\\hub\\models--minishlab--potion-retrieval-32M\\snapshots\\3c52220caac03b85ca0730a4cdbbe77b92db0a39, loading from cache.\n",
      "INFO: Found cached model at C:\\Users\\Steven\\.cache\\huggingface\\hub\\models--minishlab--potion-retrieval-32M\\snapshots\\3c52220caac03b85ca0730a4cdbbe77b92db0a39, loading from cache.\n",
      "INFO: Found cached model at C:\\Users\\Steven\\.cache\\huggingface\\hub\\models--minishlab--potion-retrieval-32M\\snapshots\\3c52220caac03b85ca0730a4cdbbe77b92db0a39, loading from cache.\n",
      "INFO: Found cached model at C:\\Users\\Steven\\.cache\\huggingface\\hub\\models--minishlab--potion-retrieval-32M\\snapshots\\3c52220caac03b85ca0730a4cdbbe77b92db0a39, loading from cache.\n",
      "INFO: Found cached model at C:\\Users\\Steven\\.cache\\huggingface\\hub\\models--minishlab--potion-retrieval-32M\\snapshots\\3c52220caac03b85ca0730a4cdbbe77b92db0a39, loading from cache.\n",
      "INFO: Found cached model at C:\\Users\\Steven\\.cache\\huggingface\\hub\\models--minishlab--potion-retrieval-32M\\snapshots\\3c52220caac03b85ca0730a4cdbbe77b92db0a39, loading from cache.\n",
      "INFO: Found cached model at C:\\Users\\Steven\\.cache\\huggingface\\hub\\models--minishlab--potion-retrieval-32M\\snapshots\\3c52220caac03b85ca0730a4cdbbe77b92db0a39, loading from cache.\n",
      "INFO: Found cached model at C:\\Users\\Steven\\.cache\\huggingface\\hub\\models--minishlab--potion-retrieval-32M\\snapshots\\3c52220caac03b85ca0730a4cdbbe77b92db0a39, loading from cache.\n",
      "INFO: Found cached model at C:\\Users\\Steven\\.cache\\huggingface\\hub\\models--minishlab--potion-retrieval-32M\\snapshots\\3c52220caac03b85ca0730a4cdbbe77b92db0a39, loading from cache.\n",
      "INFO: Found cached model at C:\\Users\\Steven\\.cache\\huggingface\\hub\\models--minishlab--potion-retrieval-32M\\snapshots\\3c52220caac03b85ca0730a4cdbbe77b92db0a39, loading from cache.\n",
      "INFO: Found cached model at C:\\Users\\Steven\\.cache\\huggingface\\hub\\models--minishlab--potion-retrieval-32M\\snapshots\\3c52220caac03b85ca0730a4cdbbe77b92db0a39, loading from cache.\n",
      "INFO: Found cached model at C:\\Users\\Steven\\.cache\\huggingface\\hub\\models--minishlab--potion-retrieval-32M\\snapshots\\3c52220caac03b85ca0730a4cdbbe77b92db0a39, loading from cache.\n",
      "INFO: Found cached model at C:\\Users\\Steven\\.cache\\huggingface\\hub\\models--minishlab--potion-retrieval-32M\\snapshots\\3c52220caac03b85ca0730a4cdbbe77b92db0a39, loading from cache.\n",
      "INFO: Found cached model at C:\\Users\\Steven\\.cache\\huggingface\\hub\\models--minishlab--potion-retrieval-32M\\snapshots\\3c52220caac03b85ca0730a4cdbbe77b92db0a39, loading from cache.\n",
      "INFO: Found cached model at C:\\Users\\Steven\\.cache\\huggingface\\hub\\models--minishlab--potion-retrieval-32M\\snapshots\\3c52220caac03b85ca0730a4cdbbe77b92db0a39, loading from cache.\n",
      "INFO: Found cached model at C:\\Users\\Steven\\.cache\\huggingface\\hub\\models--minishlab--potion-retrieval-32M\\snapshots\\3c52220caac03b85ca0730a4cdbbe77b92db0a39, loading from cache.\n",
      "INFO: Found cached model at C:\\Users\\Steven\\.cache\\huggingface\\hub\\models--minishlab--potion-retrieval-32M\\snapshots\\3c52220caac03b85ca0730a4cdbbe77b92db0a39, loading from cache.\n",
      "INFO: Found cached model at C:\\Users\\Steven\\.cache\\huggingface\\hub\\models--minishlab--potion-retrieval-32M\\snapshots\\3c52220caac03b85ca0730a4cdbbe77b92db0a39, loading from cache.\n",
      "INFO: Found cached model at C:\\Users\\Steven\\.cache\\huggingface\\hub\\models--minishlab--potion-retrieval-32M\\snapshots\\3c52220caac03b85ca0730a4cdbbe77b92db0a39, loading from cache.\n"
     ]
    }
   ],
   "source": [
    "def h():\n",
    "    results_nn = query_nn(\n",
    "        query = text,\n",
    "        index=index,\n",
    "        num_results=20)\n",
    "    \n",
    "results_nn = timeit.timeit(h, number=100)"
   ]
  },
  {
   "cell_type": "code",
   "execution_count": 7,
   "id": "851900f5",
   "metadata": {},
   "outputs": [
    {
     "data": {
      "text/plain": [
       "36.03588260000106"
      ]
     },
     "execution_count": 7,
     "metadata": {},
     "output_type": "execute_result"
    }
   ],
   "source": [
    "results_nn"
   ]
  },
  {
   "cell_type": "code",
   "execution_count": 8,
   "id": "5da2c41c",
   "metadata": {},
   "outputs": [],
   "source": [
    "problem_pdf = r\"C:\\Users\\Steven\\Documents\\Python\\super-search\\data\\tests\\4825.pdf\""
   ]
  },
  {
   "cell_type": "code",
   "execution_count": null,
   "id": "33a2921d",
   "metadata": {},
   "outputs": [
    {
     "name": "stderr",
     "output_type": "stream",
     "text": [
      "Extracting text from PDF: 100%|██████████| 43/43 [00:00<00:00, 10740.54it/s]\n"
     ]
    },
    {
     "ename": "KeyboardInterrupt",
     "evalue": "",
     "output_type": "error",
     "traceback": [
      "\u001b[31m---------------------------------------------------------------------------\u001b[39m",
      "\u001b[31mKeyboardInterrupt\u001b[39m                         Traceback (most recent call last)",
      "\u001b[36mCell\u001b[39m\u001b[36m \u001b[39m\u001b[32mIn[9]\u001b[39m\u001b[32m, line 1\u001b[39m\n\u001b[32m----> \u001b[39m\u001b[32m1\u001b[39m \u001b[43mprepare_PDF\u001b[49m\u001b[43m(\u001b[49m\u001b[43mproblem_pdf\u001b[49m\u001b[43m,\u001b[49m\u001b[43m \u001b[49m\u001b[32;43m512\u001b[39;49m\u001b[43m,\u001b[49m\u001b[43m \u001b[49m\u001b[32;43m32\u001b[39;49m\u001b[43m)\u001b[49m\n",
      "\u001b[36mFile \u001b[39m\u001b[32mc:\\Users\\Steven\\Documents\\Python\\super-search\\src\\utils.py:139\u001b[39m, in \u001b[36mprepare_PDF\u001b[39m\u001b[34m(in_path, _chunk_size, _chunk_overlap)\u001b[39m\n\u001b[32m    136\u001b[39m     \u001b[38;5;28;01mraise\u001b[39;00m \u001b[38;5;167;01mRuntimeError\u001b[39;00m(\u001b[33mf\u001b[39m\u001b[33m\"\u001b[39m\u001b[33mFailed to extract text from PDF: \u001b[39m\u001b[38;5;132;01m{\u001b[39;00me\u001b[38;5;132;01m}\u001b[39;00m\u001b[33m\"\u001b[39m)\n\u001b[32m    138\u001b[39m \u001b[38;5;66;03m# Initialize and apply the chunking strategy\u001b[39;00m\n\u001b[32m--> \u001b[39m\u001b[32m139\u001b[39m chunker = setup_chunker(_chunk_size, _chunk_overlap)\n\u001b[32m    141\u001b[39m \u001b[38;5;28;01mreturn\u001b[39;00m chunker(preprocess(paper_one_string))\n",
      "\u001b[36mFile \u001b[39m\u001b[32mc:\\Users\\Steven\\Documents\\Python\\super-search\\src\\utils.py:26\u001b[39m, in \u001b[36msetup_chunker.<locals>.chunker\u001b[39m\u001b[34m(text, chunk_size, chunk_overlap)\u001b[39m\n\u001b[32m     24\u001b[39m start = \u001b[32m0\u001b[39m\n\u001b[32m     25\u001b[39m end = chunk_size  \u001b[38;5;66;03m# Fixed: Remove the -1\u001b[39;00m\n\u001b[32m---> \u001b[39m\u001b[32m26\u001b[39m \u001b[38;5;28;01mwhile\u001b[39;00m end <= \u001b[38;5;28mlen\u001b[39m(words):  \u001b[38;5;66;03m# Fixed: Use <= since we're now using inclusive end\u001b[39;00m\n\u001b[32m     27\u001b[39m     chunk = \u001b[33m'\u001b[39m\u001b[33m \u001b[39m\u001b[33m'\u001b[39m.join(words[start:end])  \u001b[38;5;66;03m# This now correctly includes chunk_size words\u001b[39;00m\n\u001b[32m     28\u001b[39m     chunks.append(chunk)\n",
      "\u001b[31mKeyboardInterrupt\u001b[39m: "
     ]
    }
   ],
   "source": [
    "prepare_PDF(problem_pdf, 32, 4)"
   ]
  },
  {
   "cell_type": "code",
   "execution_count": 10,
   "id": "5fb2c7da",
   "metadata": {},
   "outputs": [
    {
     "name": "stderr",
     "output_type": "stream",
     "text": [
      "Extracting text from PDF: 100%|██████████| 43/43 [00:00<00:00, 8592.43it/s]\n"
     ]
    },
    {
     "data": {
      "text/plain": [
       "''"
      ]
     },
     "execution_count": 10,
     "metadata": {},
     "output_type": "execute_result"
    }
   ],
   "source": [
    "paper_one_string = \"\"\n",
    "counter=0\n",
    "doc = pymupdf.open(problem_pdf)\n",
    "\n",
    "for page in tqdm(doc, desc=\"Extracting text from PDF\"):\n",
    "    page_text = page.get_text()\n",
    "    if page_text:\n",
    "        paper_one_string += ' ' + page_text\n",
    "\n",
    "\n",
    "paper_one_string"
   ]
  },
  {
   "cell_type": "code",
   "execution_count": null,
   "id": "2d397711",
   "metadata": {},
   "outputs": [],
   "source": [
    "# Initialize and apply the chunking strategy\n",
    "chunker = setup_chunker(32, 4)\n",
    "\n",
    "chunker(preprocess(paper_one_string))"
   ]
  }
 ],
 "metadata": {
  "kernelspec": {
   "display_name": ".venv",
   "language": "python",
   "name": "python3"
  },
  "language_info": {
   "codemirror_mode": {
    "name": "ipython",
    "version": 3
   },
   "file_extension": ".py",
   "mimetype": "text/x-python",
   "name": "python",
   "nbconvert_exporter": "python",
   "pygments_lexer": "ipython3",
   "version": "3.12.10"
  }
 },
 "nbformat": 4,
 "nbformat_minor": 5
}
